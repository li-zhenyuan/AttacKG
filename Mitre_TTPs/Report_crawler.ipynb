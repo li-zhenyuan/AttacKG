{
 "metadata": {
  "language_info": {
   "codemirror_mode": {
    "name": "ipython",
    "version": 3
   },
   "file_extension": ".py",
   "mimetype": "text/x-python",
   "name": "python",
   "nbconvert_exporter": "python",
   "pygments_lexer": "ipython3",
   "version": "3.9.4"
  },
  "orig_nbformat": 2,
  "kernelspec": {
   "name": "python394jvsc74a57bd0fb4a03742b3c10d3c2a9deec0f6faedc5d3c2bb25a2cf20bd6e7933cdb10636e",
   "display_name": "Python 3.9.4 64-bit"
  },
  "metadata": {
   "interpreter": {
    "hash": "fb4a03742b3c10d3c2a9deec0f6faedc5d3c2bb25a2cf20bd6e7933cdb10636e"
   }
  }
 },
 "nbformat": 4,
 "nbformat_minor": 2,
 "cells": [
  {
   "cell_type": "code",
   "execution_count": 1,
   "metadata": {},
   "outputs": [],
   "source": [
    "import os\n",
    "import sys\n",
    "import networkx as nx\n",
    "\n",
    "G = nx.Graph()\n",
    "G = nx.read_gml('Tactic_Technique_Reference_Example.gml')"
   ]
  },
  {
   "cell_type": "code",
   "execution_count": 8,
   "metadata": {
    "tags": []
   },
   "outputs": [],
   "source": [
    "reference_file = open('reference_crawler_status.csv', 'w')\n",
    "\n",
    "reference_list = []\n",
    "for reference in list(G.nodes()):\n",
    "    if G.nodes[reference]['types'].find('reference') != -1:\n",
    "        # print(reference)\n",
    "        # reference_file.write(reference + '\\n')\n",
    "        reference_list.append(reference)\n",
    "\n",
    "reference_file.close()"
   ]
  },
  {
   "cell_type": "code",
   "execution_count": 7,
   "metadata": {},
   "outputs": [],
   "source": [
    "from urllib.request import urlretrieve\n"
   ]
  },
  {
   "cell_type": "code",
   "execution_count": null,
   "metadata": {},
   "outputs": [],
   "source": []
  }
 ]
}