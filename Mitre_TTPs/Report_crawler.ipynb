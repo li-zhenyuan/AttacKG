{
 "metadata": {
  "language_info": {
   "codemirror_mode": {
    "name": "ipython",
    "version": 3
   },
   "file_extension": ".py",
   "mimetype": "text/x-python",
   "name": "python",
   "nbconvert_exporter": "python",
   "pygments_lexer": "ipython3",
   "version": "3.9.4"
  },
  "orig_nbformat": 2,
  "kernelspec": {
   "name": "python3",
   "language": "python",
   "display_name": "Python 3"
  },
  "metadata": {
   "interpreter": {
    "hash": "fb4a03742b3c10d3c2a9deec0f6faedc5d3c2bb25a2cf20bd6e7933cdb10636e"
   }
  }
 },
 "nbformat": 4,
 "nbformat_minor": 2,
 "cells": [
  {
   "cell_type": "code",
   "execution_count": 1,
   "metadata": {},
   "outputs": [],
   "source": [
    "import os\n",
    "import sys\n",
    "import networkx as nx\n",
    "\n",
    "G = nx.Graph()\n",
    "G = nx.read_gml('Tactic_Technique_Reference_Example.gml')"
   ]
  },
  {
   "cell_type": "code",
   "execution_count": 12,
   "metadata": {
    "tags": []
   },
   "outputs": [],
   "source": [
    "reference_file = open('reference_crawler_status.csv', 'w')\n",
    "\n",
    "reference_list = []\n",
    "for reference in list(G.nodes()):\n",
    "    if G.nodes[reference]['types'].find('reference') != -1:\n",
    "        # print(reference)\n",
    "        reference_file.write(reference + '\\n')\n",
    "        reference_list.append(reference)\n",
    "\n",
    "reference_file.close()"
   ]
  },
  {
   "cell_type": "code",
   "execution_count": 11,
   "metadata": {},
   "outputs": [],
   "source": [
    "from urllib.parse import urlparse\n",
    "import os\n",
    "\n",
    "netloc_count = {}\n",
    "ext_count = {}\n",
    "\n",
    "for reference in reference_list:\n",
    "    url = urlparse(reference)\n",
    "\n",
    "    netloc = url.netloc.lower()\n",
    "    try:\n",
    "        netloc_count[netloc] += 1\n",
    "    except:\n",
    "        netloc_count[netloc] = 1\n",
    "\n",
    "    path = url.path.lower()\n",
    "    # print(path)\n",
    "    file_name, ext = os.path.splitext(path)\n",
    "    # print(ext)\n",
    "    if ext is None:\n",
    "        ext = \" \"\n",
    "    try:\n",
    "        ext_count[ext] += 1\n",
    "    except:\n",
    "        ext_count[ext] = 1"
   ]
  },
  {
   "cell_type": "code",
   "execution_count": 9,
   "outputs": [
    {
     "name": "stdout",
     "output_type": "stream",
     "text": [
      "{'www.caida.org': 1, 'wiki.owasp.org': 2, 'cybersecurity.att.com': 2, 'arstechnica.com': 8, 'www.opm.gov': 1, 'www.theregister.com': 2, 'labs.detectify.com': 1, 'www.forbes.com': 1, 'github.com': 69, 'www.cnet.com': 1, 'www.hackers-arise.com': 1, 'www.whois.net': 1, 'dnsdumpster.com': 1, 'www.circl.lu': 1, 'www.slideshare.net': 7, 'nmap.org': 1, 'threatpost.com': 4, 'www.dobsearch.com': 1, 'www.trendmicro.com': 15, 'www.pcmag.com': 1, 'nakedsecurity.sophos.com': 1, 'docs.microsoft.com': 126, 'www.cyber.gov.au': 1, 'd3security.com': 1, 'www.zdnet.com': 4, 'medium.com': 16, 'www.sslshopper.com': 1, 'www.digitalshadows.com': 1, 'shodan.io': 1, 'cyware.com': 2, 'securitytrails.com': 1, 'www.exploit-db.com': 3, 'www.comparitech.com': 1, 'documents.trendmicro.com': 7, 'us-cert.cisa.gov': 9, 'www.fireeye.com': 87, 'www.justice.gov': 6, 'unit42.paloaltonetworks.com': 25, 'www.nytimes.com': 2, 'us.norton.com': 1, 'www.imperva.com': 1, 'krebsonsecurity.com': 4, 'www2.fireeye.com': 10, 'www.securityweek.com': 1, 'media.blackhat.com': 1, 'www.icann.org': 1, 'blog.talosintelligence.com': 27, 'media.defense.gov': 2, 'blogs.cisco.com': 6, 'www.proofpoint.com': 16, 'www.recordedfuture.com': 3, 'www.secureworks.com': 25, 'securelist.com': 47, 'www.bitdefender.com': 1, 'www.losangeles.va.gov': 1, 'www.cylance.com': 5, 'securingtomorrow.mcafee.com': 9, 'www.crowdstrike.com': 10, 'www.microsoft.com': 15, 'en.wikipedia.org': 33, 'www.pwc.co.uk': 5, 'www.splunk.com': 1, 'www.irongeek.com': 1, 'blog.trendmicro.com': 36, 'citizenlab.ca': 4, 'thedfirreport.com': 3, 'letsencrypt.org': 1, 'www.wired.co.uk': 1, 'www.vice.com': 1, 'nvd.nist.gov': 4, 'blog.shadowserver.org': 1, 'www.volexity.com': 5, 'researchcenter.paloaltonetworks.com': 59, 'www.welivesecurity.com': 50, 'content.fireeye.com': 3, 'www.symantec.com': 57, 'mackeeper.com': 1, 'info.lookout.com': 1, 'media.kasperskycontenthub.com': 10, 'www.us-cert.gov': 24, 'www.csmonitor.com': 1, 'securityaffairs.co': 2, 'download.microsoft.com': 3, 'www.mcafee.com': 11, 'www.picussecurity.com': 2, 'objective-see.com': 5, 'blogs.windows.com': 1, 'blogs.technet.microsoft.com': 12, 'www.cisecurity.org': 3, 'community.cisco.com': 1, 'www.owasp.org': 2, 'cwe.mitre.org': 1, 'www.ncsc.gov.uk': 1, 'symantec-enterprise-blogs.security.com': 5, 'www.novetta.com': 1, 'redcanary.com': 5, 'blog.checkpoint.com': 2, 'www.cybereason.com': 9, 'sqlmap.org': 1, 'www.rsaconference.com': 3, 'cycraft.com': 1, 'www.darkreading.com': 1, 'www.youtube.com': 3, 'www.nccgroup.trust': 4, 'www.anomali.com': 4, 'www.brighttalk.com': 2, 'ossmann.blogspot.com': 1, 'www.bsidesto.ca': 1, 'www.hak5.org': 1, 'web.archive.org': 7, 'www.trendmicro.de': 3, 'www.accenture.com': 3, 'www.f-secure.com': 7, 'cdn2.hubspot.net': 1, 'www.ptsecurity.com': 2, 'www.group-ib.com': 6, 'www.riskiq.com': 4, 'pan-unit42.github.io': 1, 'support.malwarebytes.com': 1, 'www.carbonblack.com': 8, 'securityintelligence.com': 4, 'usa.visa.com': 2, 'www.flashpoint-intel.com': 1, 'blogs.juniper.net': 1, 'foxitsecurity.files.wordpress.com': 1, 'www.clearskysec.com': 5, 'research.checkpoint.com': 4, 's3-us-west-2.amazonaws.com': 1, 'blog.malwarebytes.com': 15, 'www.gdatasoftware.com': 1, 'threatvector.cylance.com': 2, 'cyberforensicator.com': 1, 'www.sans.org': 8, 'blog.alyac.co.kr': 1, 'asert.arbornetworks.com': 2, 'assets.sentinelone.com': 1, 'labs.f-secure.com': 1, 'blogs.microsoft.com': 2, 'blog.threatexpert.com': 1, 'www.threatminer.org': 2, 'www.forcepoint.com': 1, 'support.microsoft.com': 15, 'technet.microsoft.com': 62, 'www-01.ibm.com': 1, 'www.se.com': 1, 'blog.avast.com': 1, 'cloudblogs.microsoft.com': 4, 'www.commandfive.com': 1, 'www.intezer.com': 3, 'www.trustwave.com': 4, 'www.trustedcomputinggroup.org': 1, 'msrc-blog.microsoft.com': 3, 'airbus-cyber-security.com': 2, 'cobaltstrike.com': 1, 'blog.cobaltstrike.com': 2, 'aws.amazon.com': 6, 'cloud.google.com': 13, 'citizenlab.org': 1, 'cyberwtf.files.wordpress.com': 1, 'blog.netspi.com': 3, 'www.sixdub.net': 1, 'silentbreaksecurity.com': 2, 'blogs.msdn.microsoft.com': 2, 'labs.bitdefender.com': 2, 'www.cobaltstrike.com': 3, 'blog.crowdstrike.com': 3, 's3.eu-west-1.amazonaws.com': 1, 'blog.morphisec.com': 3, 'reaqta.com': 2, 'news.sophos.com': 4, 'powersploit.readthedocs.io': 2, 'cofense.com': 3, 'blog.intel471.com': 1, 'www.deepinstinct.com': 1, 'www.bromium.com': 1, 'lab52.io': 1, 'www.malwarearchaeology.com': 1, 'developer.apple.com': 9, 'www.sentinelone.com': 4, 'www.engadget.com': 1, 'cdn0.vox-cdn.com': 1, 'download.bitdefender.com': 1, 'www.eff.org': 1, 'www.zscaler.com': 1, 'blogs.forcepoint.com': 2, 'www.fidelissecurity.com': 4, 'research.zscaler.com': 2, 'blog.rapid7.com': 2, 'www.operationblockbuster.com': 3, 'operationblockbuster.com': 2, 'blog.radware.com': 1, 'blogs.jpcert.or.jp': 2, 'circl.lu': 1, 'www.fortinet.com': 6, 'www.sophos.com': 1, 'linux.die.net': 2, 'support.apple.com': 3, 'gosecure.net': 1, 'paper.seebug.org': 2, 'devblogs.microsoft.com': 1, 'www.synack.com': 3, 'nodejs.org': 1, 'tools.cisco.com': 12, 'crowdstrike.lookbookhq.com': 1, 'support.office.com': 7, 'posts.specterops.io': 5, 'www.bleepingcomputer.com': 3, 'gist.github.com': 3, 'portal.msrc.microsoft.com': 2, 'msdn.microsoft.com': 60, 'googleprojectzero.blogspot.com': 1, 'enigma0x3.net': 12, 'sensepost.com': 4, 'www.contextis.com': 1, 'www.cyberscoop.com': 2, 'blog.nviso.be': 1, 'undocumented.ntinternals.net': 1, 'www.kernel.org': 2, 'www.gnu.org': 3, 'man7.org': 5, 'dotnet.microsoft.com': 1, 'labs.lastline.com': 1, 'usa.kaspersky.com': 1, 'www.securityartwork.es': 1, 'blog.jpcert.or.jp': 2, 'apps.nsa.gov': 2, 'twitter.com': 13, 'social.technet.microsoft.com': 3, 's3-eu-west-1.amazonaws.com': 1, 'www.arbornetworks.com': 2, 'kifarunix.com': 1, 'www.virusbulletin.com': 1, 'www.thesafemac.com': 1, 'wiki.archlinux.org': 1, 'lists.archlinux.org': 1, 'ss64.com': 3, 'www.secureauth.com': 1, 'windowsitpro.com': 2, 'www.secpod.com': 1, 'ashwinrayaprolu.wordpress.com': 1, 'www.intego.com': 2, 'logrhythm.com': 2, 'carnal0wnage.attackresearch.com': 3, 'adsecurity.org': 15, 'www.ultimatewindowssecurity.com': 2, 'blog.stealthbits.com': 4, 'www.ssh.com': 3, 'www.venafi.com': 1, 'speakerdeck.com': 2, 'nedinthecloud.com': 1, 'expel.io': 3, 'blog.cylance.com': 1, 'www.tldp.org': 4, 'oddvar.moe': 4, 'blog-assets.f-secure.com': 1, 'pxnow.prevx.com': 1, 'www.paloaltonetworks.com': 4, 'www.finfisher.com': 1, 'www.threatstream.com': 1, 'www.alienvault.com': 6, 'www.cyberbit.com': 1, 'www.crysys.hu': 1, 'docplayer.net': 2, 'www.megasecurity.org': 1, 'volatility-labs.blogspot.com': 2, 'rkhunter.sourceforge.net': 1, 'www.chkrootkit.org': 1, 'patchwork.kernel.org': 1, 'en.wikibooks.org': 1, 'linux-audit.com': 1, 'xorl.wordpress.com': 1, 'tldp.org': 1, 'www.stigviewer.com': 2, 'www.defcon.org': 1, 'www.hexacorn.com': 3, 'www.petri.com': 1, 'developer.chrome.com': 1, 'static.googleusercontent.com': 1, 'www.ghacks.net': 1, 'www.icebrg.io': 1, 'isc.sans.edu': 3, 'kjaer.io': 1, 'www.technospot.net': 1, 'docs.aws.amazon.com': 11, 'support.google.com': 1, 'www.freedesktop.org': 2, 'www.rapid7.com': 3, 'vms.drweb.com': 1, 'www-west.symantec.com': 1, 'www.kroll.com': 1, 'sjc1-te-ftp.trendmicro.com': 1, 'bash.cyberciti.biz': 1, 'www.blackhat.com': 8, 'htmlpreview.github.io': 1, 'giuliocomi.blogspot.com': 1, 'www.rsa.com': 1, 'www.endgame.com': 2, 'forum.sysinternals.com': 1, 'files.brucon.org': 1, 'witsendandshady.blogspot.com': 1, 'www.xorrior.com': 1, 'www.magnusviri.com': 1, 'blog.gdatasoftware.com': 1, 'www.elastic.co': 1, 'skanthak.homepage.t-online.de': 1, 'seclists.org': 1, 'www.mozilla.org': 1, 'trustedsignal.blogspot.com': 1, 'securityboulevard.com': 1, 'www.absolomb.com': 1, 'www.man7.org': 1, 'www.datawire.io': 1, 'hick.org': 1, 'phrack.org': 1, 'offsec.almond.consulting': 1, 'rhinosecuritylabs.com': 1, 'docs.docker.com': 1, 'labs.mwrinfosecurity.com': 1, 'malware.news': 1, 'summit.fireeye.com': 1, 'www.221bluestreet.com': 1, 'www.itworld.com': 1, 'www.uefi.org': 1, 'www.intel.com': 1, 'www.mitre.org': 2, 'www.intelsecurity.com': 1, 'www.smartmontools.org': 1, 'www.eset.com': 1, 'www.giac.org': 1, 'www.pretentiousname.com': 1, 'blog.fortinet.com': 1, 'pen-testing.sans.org': 2, 'www.sudo.ws': 1, 'pentestlab.blog': 3, 'blog.didierstevens.com': 2, 'www.countercept.com': 1, 'blog.christophetd.fr': 1, 'blog.xpnsec.com': 1, 'www.securityinbits.com': 1, 'wald0.com': 1, 'www.harmj0y.net': 6, 'www.sygnia.co': 1, 'labsblog.f-secure.com': 1, 'access.redhat.com': 2, 'www.chokepoint.net': 1, 'blog.airbuscybersecurity.com': 1, 'blog.ensilo.com': 1, 'blog.gdssecurity.com': 1, 'www.malwaretech.com': 2, 'recon.cx': 2, 'hshrzd.wordpress.com': 1, 'www.autosectools.com': 1, 'insights.infoblox.com': 1, 'backtrace.io': 1, 'lwn.net': 1, 'www.codeproject.com': 1, 'www.schneier.com': 1, 'pdfs.semanticscholar.org': 1, 'www.hybrid-analysis.com': 2, 'www.eventtracker.com': 1, 'go.cybereason.com': 2, 'journeyintoir.blogspot.com': 1, 'lolbas-project.github.io': 15, 'www.mci.gov.sg': 1, 'outflank.nl': 1, 'www.wired.com': 2, 'www.digitrustgroup.com': 2, 'community.sophos.com': 2, 'www.akyl.net': 1, 'www.eurovps.com': 1, 'www.nccgroup.com': 1, 'windowsir.blogspot.com': 1, 'community.rsa.com': 1, 'pages.endgame.com': 1, 'threatexpress.com': 1, 'resources.infosecinstitute.com': 3, 'clymb3r.wordpress.com': 1, 'opensource.apple.com': 1, 'x-c3ll.github.io': 1, 'www.techrepublic.com': 2, 'pages.nist.gov': 1, 'drwho.virtadpt.net': 1, 'www.usenix.org': 1, '2015.zeronights.org': 1, 'www.recurity-labs.com': 1, 'tools.ietf.org': 2, 'www.virustotal.com': 1, 'attack.mitre.org': 1, 'www.dcshadow.com': 1, 'adds-security.blogspot.fr': 1, 'sophosnews.files.wordpress.com': 1, 'thisissecurity.stormshield.com': 1, 'msitpros.com': 2, 'www.endurant.io': 1, 'www.redcanary.com': 1, 'www.winosbite.com': 1, 'bohops.com': 1, 'specterops.io': 1, 'derflounder.wordpress.com': 1, 'www.entrust.net': 1, 'www.kaspersky.com': 1, 'www.tripwire.com': 1, 'blog.redxorblue.com': 1, 'forum.anomali.com': 1, 'www.exploit-monday.com': 1, 'blog.cloudsploit.com': 1, 'csrc.nist.gov': 2, 'blog.gentilkiwi.com': 1, 'defcon.org': 1, 'cert.europa.eu': 2, 'auth0.com': 1, 'developer.okta.com': 1, 'staaldraad.github.io': 1, 'wunderwuzzi23.github.io': 1, 'tools.kali.org': 1, 'www.blackhillsinfosec.com': 3, 'www.trimarcsecurity.com': 1, 'www.dsinternals.com': 1, 'juusosalonen.com': 1, 'osandamalith.com': 1, 'www.troopers.de': 1, 'www.cyberark.com': 1, 'opensecuritytraining.info': 1, 'www.securelist.com': 1, 'thehackernews.com': 1, 'baesystemsai.blogspot.com': 1, 'www.adlice.com': 1, 'www.mwrinfosecurity.com': 1, 'zairon.wordpress.com': 1, 'eyeofrablog.wordpress.com': 1, 'www.gmer.net': 1, 'security.stackexchange.com': 1, 'byt3bl33d3r.github.io': 1, 'blog.secureideas.com': 1, 'www.sternsecurity.com': 1, 'www.cisco.com': 4, 'www.juniper.net': 2, 'wiki.samba.org': 1, 'www.ampliasecurity.com': 1, 'www.truesec.se': 1, 'www.coresecurity.com': 1, 'dfironthemountain.wordpress.com': 1, 'source.winehq.org': 1, 'www.cyberciti.biz': 1, 'passlib.readthedocs.io': 1, 'ired.team': 2, 'www.first.org': 1, 'www.passcape.com': 1, 'www.amnesty.org': 1, 'gallery.technet.microsoft.com': 1, 'redsiege.com': 1, 'breakdev.org': 1, 'dl.mandiant.com': 1, 'gcn.com': 1, 'redlock.io': 1, 'blogs.technet.com': 1, 'www.invincea.com': 1, 'kasperskycontenthub.com': 1, 'obscuresecurity.blogspot.co.uk': 1, 'www.melani.admin.ch': 1, 'netzpolitik.org': 1, 'superuser.com': 1, 'www.jamf.com': 1, 'global.ahnlab.com': 1, 'labs.sentinelone.com': 1, 'labs.ft.com': 1, 'arxiv.org': 2, 'matrix.org': 1, 'www.clockwork.com': 1, 'www.korznikov.com': 1, 'security.berkeley.edu': 1, 'rewtin.blogspot.ch': 1, 'news.softpedia.com': 1, 'www.7-zip.org': 1, 'www.rarlab.com': 1, 'www.winzip.com': 1, 'pypi.org': 1, 'libzip.org': 1, 'www.hipaajournal.com': 1, 'confluence.atlassian.com': 1, 'riskiq.com': 1, 'practical365.com': 1, 'umbrella.cisco.com': 2, 'datadrivensecurity.info': 1, 'blogs.akamai.com': 1, 'csis.pace.edu': 1, 'insights.sei.cmu.edu': 1, 'www.dtic.mil': 1, 'cdn.securelist.com': 1, 'www.cyber.nj.gov': 1, 'www.icir.org': 1, 'go.crowdstrike.com': 1, 'blog.crysys.hu': 1, 'www.cyberengineeringservices.com': 1, 'www.ready.gov': 1, 'www.cynet.com': 1, 'www.intelligence.senate.gov': 1, 'torrentfreak.com': 1, 'www.ic3.gov': 1, 'pages.arbornetworks.com': 1, 'www.cloudflare.com': 4, 'www.corero.com': 1, 'www.netscout.com': 1, 'blog.sucuri.net': 1, 'blog.cloudflare.com': 2}\n",
      "{'.pdf': 214, '': 1229, '.html': 240, '.php': 3, '.pptx': 1, '.1X': 1, '.aspx': 111, '.wss': 1, '.html ': 1, '.PDF': 4, '.zip': 1, '.0': 1, '.jsp': 13, '.vbs': 1, '.85)': 2, '.cfm': 3, '.n': 1, '.A2': 1, '.SM': 1, '.gzd': 1, '.shtml': 3, '.10)': 7, '.11)': 4, '.txt': 2, '.100)': 1, '.yaml': 1, '.ps1': 2, '.js': 1, '.ashx': 1, '.12)': 1, '.adml': 1, '.mspx': 1, '.0b5': 1, '.getalltrustrelationships': 1, '.copyfromscreen': 1}\n"
     ]
    }
   ],
   "source": [
    "print(netloc_count)\n",
    "print(ext_count)"
   ],
   "metadata": {
    "collapsed": false,
    "pycharm": {
     "name": "#%%\n"
    }
   }
  },
  {
   "cell_type": "code",
   "execution_count": null,
   "metadata": {},
   "outputs": [],
   "source": [
    "from urllib.request import urlretrieve\n",
    "\n"
   ]
  }
 ]
}