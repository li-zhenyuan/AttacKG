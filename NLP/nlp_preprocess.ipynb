{
 "cells": [
  {
   "cell_type": "code",
   "execution_count": null,
   "metadata": {
    "collapsed": true
   },
   "outputs": [],
   "source": [
    "import pdfplumber\n",
    "\n",
    "# todo: how to handle pdf new lines\n",
    "def read_pdf(file):\n",
    "    with pdfplumber.open(file) as plumber:\n",
    "        for page in plumber.pages:\n",
    "            text = page.extract_text()\n",
    "            text = text.replace('\\n', '')\n",
    "            print(text)\n",
    "            # spacy_stentencizer(text)"
   ]
  },
  {
   "cell_type": "code",
   "execution_count": null,
   "outputs": [],
   "source": [
    "from html2text import html2text\n",
    "\n",
    "def read_html(file):\n",
    "    with open(file, 'rb') as html_content:\n",
    "        html = str(html_content.read())\n",
    "        print(html)\n",
    "        text = html2text(html)\n",
    "        print(text)\n",
    "\n",
    "        return text\n",
    "        # spacy_stentencizer(text)"
   ],
   "metadata": {
    "collapsed": false,
    "pycharm": {
     "name": "#%%\n"
    }
   }
  },
  {
   "cell_type": "code",
   "execution_count": null,
   "outputs": [],
   "source": [
    "import spacy\n",
    "import re\n",
    "\n",
    "def spacy_stentencizer(text: str):\n",
    "    nlp = spacy.load('en_core_web_sm')\n",
    "    # boundary = re.compile('^[0-9]$')\n",
    "    text_sentences = nlp(text)\n",
    "    for sentence in text_sentences:\n",
    "        print(sentence.text)\n",
    "\n"
   ],
   "metadata": {
    "collapsed": false,
    "pycharm": {
     "name": "#%%\n"
    }
   }
  }
 ],
 "metadata": {
  "kernelspec": {
   "display_name": "Python 3",
   "language": "python",
   "name": "python3"
  },
  "language_info": {
   "codemirror_mode": {
    "name": "ipython",
    "version": 2
   },
   "file_extension": ".py",
   "mimetype": "text/x-python",
   "name": "python",
   "nbconvert_exporter": "python",
   "pygments_lexer": "ipython2",
   "version": "2.7.6"
  }
 },
 "nbformat": 4,
 "nbformat_minor": 0
}