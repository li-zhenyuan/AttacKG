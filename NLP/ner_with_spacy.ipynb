{
 "cells": [
  {
   "cell_type": "code",
   "execution_count": 44,
   "metadata": {},
   "outputs": [
    {
     "name": "stdout",
     "output_type": "stream",
     "text": [
      "---Read Labeled Data(27)!---\n"
     ]
    }
   ],
   "source": [
    "import spacy\n",
    "from spacy import displacy\n",
    "from spacy.training import Example\n",
    "from spacy.lang.en import English\n",
    "import random\n",
    "import json\n",
    "\n",
    "temp_nlp = English()\n",
    "\n",
    "\n",
    "labeled_data = []\n",
    "with open(r\"/home/zhenyuan/AttacKG/NLP/Doccano/admin.jsonl\", \"r\") as read_file:\n",
    "    for line in read_file:\n",
    "        data = json.loads(line)\n",
    "        labeled_data.append(data)\n",
    "\n",
    "print('---Read Labeled Data(%d)!---' % len(labeled_data))\n",
    "\n",
    "sample = \"APT3 has used PowerShell on victim systems to download and run payloads after exploitation.\"\n",
    "\n",
    "    # self.nlp.initialize(lambda: self.spacy_data)\n",
    "# split training and testing set\n",
    "# training_set = spacy_data[0:19]\n",
    "# testing_set = spacy_data[20:-1]"
   ]
  },
  {
   "cell_type": "code",
   "execution_count": 52,
   "metadata": {},
   "outputs": [
    {
     "name": "stdout",
     "output_type": "stream",
     "text": [
      "---Created Blank 'en' Model---\n"
     ]
    }
   ],
   "source": [
    "# nlp = spacy.blank(\"en\")\n",
    "# nlp = spacy.load(\"en_core_web_sm\") # python -m spacy download en_core_web_sm\n",
    "model_location = None\n",
    "# model_location = \"/home/zhenyuan/AttacKG/NLP/cti.model\"\n",
    "ner_labels = [\"NetLoc\", \"APTFamily\", \"ExeFile\", \"ScriptsFile\", \"DocumentFile\", \"E-mail\", \"Registry\", \"File\", \"Vulnerability\", \"C2C\", \"SensInfo\", \"Service\"]\n",
    "\n",
    "if model_location is None:\n",
    "    nlp = spacy.blank('en')\n",
    "    print(\"---Created Blank 'en' Model---\")\n",
    "else:\n",
    "    nlp = spacy.load(model_location)\n",
    "    print(\"---Load Model: %s---\" % model_location)\n",
    "\n",
    "if 'ner' not in nlp.pipe_names:\n",
    "    ner = nlp.add_pipe(\"ner\")\n",
    "else:\n",
    "    ner = nlp.get_pipe(\"ner\")\n",
    "\n",
    "for label in ner_labels:\n",
    "    ner.add_label(label)\n",
    "\n",
    "if model_location is None:\n",
    "    optimizer = nlp.begin_training()\n",
    "else:\n",
    "    optimizer = ner.create_optimizer()"
   ]
  },
  {
   "cell_type": "code",
   "execution_count": 50,
   "outputs": [
    {
     "name": "stdout",
     "output_type": "stream",
     "text": [
      "[{'doc_annotation': {'cats': {}, 'entities': ['B-APTFamily', 'L-APTFamily', 'O', 'O', 'O', 'O', 'O', 'O', 'O', 'O', 'O', 'O', 'O', 'O', 'O', 'O', 'O', 'O'], 'links': {}}, 'token_annotation': {'ORTH': ['Cobalt', 'Strike', 'can', 'use', 'known', 'credentials', 'to', 'run', 'commands', 'and', 'spawn', 'processes', 'as', 'a', 'domain', 'user', 'account', '.'], 'SPACY': [True, True, True, True, True, True, True, True, True, True, True, True, True, True, True, True, False, False], 'TAG': ['', '', '', '', '', '', '', '', '', '', '', '', '', '', '', '', '', ''], 'LEMMA': ['', '', '', '', '', '', '', '', '', '', '', '', '', '', '', '', '', ''], 'POS': ['', '', '', '', '', '', '', '', '', '', '', '', '', '', '', '', '', ''], 'MORPH': ['', '', '', '', '', '', '', '', '', '', '', '', '', '', '', '', '', ''], 'HEAD': [0, 1, 2, 3, 4, 5, 6, 7, 8, 9, 10, 11, 12, 13, 14, 15, 16, 17], 'DEP': ['', '', '', '', '', '', '', '', '', '', '', '', '', '', '', '', '', ''], 'SENT_START': [1, 0, 0, 0, 0, 0, 0, 0, 0, 0, 0, 0, 0, 0, 0, 0, 0, 0]}}, {'doc_annotation': {'cats': {}, 'entities': ['B-APTFamily', 'L-APTFamily', 'O', 'O', 'O', 'O', 'O', 'O', 'O', 'O', 'O', 'O', 'O', 'O'], 'links': {}}, 'token_annotation': {'ORTH': ['Tropic', 'Trooper', 'has', 'used', 'known', 'administrator', 'account', 'credentials', 'to', 'execute', 'the', 'backdoor', 'directly', '.'], 'SPACY': [True, True, True, True, True, True, True, True, True, True, True, True, False, False], 'TAG': ['', '', '', '', '', '', '', '', '', '', '', '', '', ''], 'LEMMA': ['', '', '', '', '', '', '', '', '', '', '', '', '', ''], 'POS': ['', '', '', '', '', '', '', '', '', '', '', '', '', ''], 'MORPH': ['', '', '', '', '', '', '', '', '', '', '', '', '', ''], 'HEAD': [0, 1, 2, 3, 4, 5, 6, 7, 8, 9, 10, 11, 12, 13], 'DEP': ['', '', '', '', '', '', '', '', '', '', '', '', '', ''], 'SENT_START': [1, 0, 0, 0, 0, 0, 0, 0, 0, 0, 0, 0, 0, 0]}}, {'doc_annotation': {'cats': {}, 'entities': ['O', 'O', 'O', 'O', 'O', 'B-C2C', 'L-C2C', 'O', 'O', 'O', 'O', 'O'], 'links': {}}, 'token_annotation': {'ORTH': ['Bonadan', 'can', 'create', 'bind', 'and', 'reverse', 'shells', 'on', 'the', 'infected', 'system', '.'], 'SPACY': [True, True, True, True, True, True, True, True, True, True, False, False], 'TAG': ['', '', '', '', '', '', '', '', '', '', '', ''], 'LEMMA': ['', '', '', '', '', '', '', '', '', '', '', ''], 'POS': ['', '', '', '', '', '', '', '', '', '', '', ''], 'MORPH': ['', '', '', '', '', '', '', '', '', '', '', ''], 'HEAD': [0, 1, 2, 3, 4, 5, 6, 7, 8, 9, 10, 11], 'DEP': ['', '', '', '', '', '', '', '', '', '', '', ''], 'SENT_START': [1, 0, 0, 0, 0, 0, 0, 0, 0, 0, 0, 0]}}, {'doc_annotation': {'cats': {}, 'entities': ['O', 'O', 'O', 'O', 'O', 'O', 'O', 'O', 'O', 'O', 'O', 'O', 'O', 'O', 'O', 'U-DocumentFile', 'O', 'O', 'B-DocumentFile', 'L-DocumentFile', 'O', 'O', 'O', 'O', 'B-DocumentFile', 'I-DocumentFile', 'L-DocumentFile', 'O'], 'links': {}}, 'token_annotation': {'ORTH': ['FIN6', 'has', 'used', 'scripting', 'to', 'iterate', 'through', 'a', 'list', 'of', 'compromised', 'PoS', 'systems', ',', 'copy', 'data', 'to', 'a', 'log', 'file', ',', 'and', 'remove', 'the', 'original', 'data', 'files', '.'], 'SPACY': [True, True, True, True, True, True, True, True, True, True, True, True, False, True, True, True, True, True, True, False, True, True, True, True, True, True, False, False], 'TAG': ['', '', '', '', '', '', '', '', '', '', '', '', '', '', '', '', '', '', '', '', '', '', '', '', '', '', '', ''], 'LEMMA': ['', '', '', '', '', '', '', '', '', '', '', '', '', '', '', '', '', '', '', '', '', '', '', '', '', '', '', ''], 'POS': ['', '', '', '', '', '', '', '', '', '', '', '', '', '', '', '', '', '', '', '', '', '', '', '', '', '', '', ''], 'MORPH': ['', '', '', '', '', '', '', '', '', '', '', '', '', '', '', '', '', '', '', '', '', '', '', '', '', '', '', ''], 'HEAD': [0, 1, 2, 3, 4, 5, 6, 7, 8, 9, 10, 11, 12, 13, 14, 15, 16, 17, 18, 19, 20, 21, 22, 23, 24, 25, 26, 27], 'DEP': ['', '', '', '', '', '', '', '', '', '', '', '', '', '', '', '', '', '', '', '', '', '', '', '', '', '', '', ''], 'SENT_START': [1, 0, 0, 0, 0, 0, 0, 0, 0, 0, 0, 0, 0, 0, 0, 0, 0, 0, 0, 0, 0, 0, 0, 0, 0, 0, 0, 0]}}, {'doc_annotation': {'cats': {}, 'entities': ['O', 'O', 'O', 'O', 'B-C2C', 'L-C2C', 'O', 'O', 'B-NetLoc', 'L-NetLoc', 'O', 'O', 'O', 'O', 'O'], 'links': {}}, 'token_annotation': {'ORTH': ['Kessel', 'can', 'create', 'a', 'reverse', 'shell', 'between', 'the', 'infected', 'host', 'and', 'a', 'specified', 'system', '.'], 'SPACY': [True, True, True, True, True, True, True, True, True, True, True, True, True, False, False], 'TAG': ['', '', '', '', '', '', '', '', '', '', '', '', '', '', ''], 'LEMMA': ['', '', '', '', '', '', '', '', '', '', '', '', '', '', ''], 'POS': ['', '', '', '', '', '', '', '', '', '', '', '', '', '', ''], 'MORPH': ['', '', '', '', '', '', '', '', '', '', '', '', '', '', ''], 'HEAD': [0, 1, 2, 3, 4, 5, 6, 7, 8, 9, 10, 11, 12, 13, 14], 'DEP': ['', '', '', '', '', '', '', '', '', '', '', '', '', '', ''], 'SENT_START': [1, 0, 0, 0, 0, 0, 0, 0, 0, 0, 0, 0, 0, 0, 0]}}, {'doc_annotation': {'cats': {}, 'entities': ['O', 'O', 'O', 'O', 'O', 'B-C2C', 'L-C2C', 'O', 'O', 'O', 'O', 'O', 'O', 'O', 'B-NetLoc', 'L-NetLoc', 'O', 'O', 'O', 'O', 'O'], 'links': {}}, 'token_annotation': {'ORTH': ['Whitefly', 'has', 'used', 'a', 'simple', 'remote', 'shell', 'tool', 'that', 'will', 'call', 'back', 'to', 'the', 'C2', 'server', 'and', 'wait', 'for', 'commands', '.'], 'SPACY': [True, True, True, True, True, True, True, True, True, True, True, True, True, True, True, True, True, True, True, False, False], 'TAG': ['', '', '', '', '', '', '', '', '', '', '', '', '', '', '', '', '', '', '', '', ''], 'LEMMA': ['', '', '', '', '', '', '', '', '', '', '', '', '', '', '', '', '', '', '', '', ''], 'POS': ['', '', '', '', '', '', '', '', '', '', '', '', '', '', '', '', '', '', '', '', ''], 'MORPH': ['', '', '', '', '', '', '', '', '', '', '', '', '', '', '', '', '', '', '', '', ''], 'HEAD': [0, 1, 2, 3, 4, 5, 6, 7, 8, 9, 10, 11, 12, 13, 14, 15, 16, 17, 18, 19, 20], 'DEP': ['', '', '', '', '', '', '', '', '', '', '', '', '', '', '', '', '', '', '', '', ''], 'SENT_START': [1, 0, 0, 0, 0, 0, 0, 0, 0, 0, 0, 0, 0, 0, 0, 0, 0, 0, 0, 0, 0]}}, {'doc_annotation': {'cats': {}, 'entities': ['O', 'O', 'O', 'U-ExeFile', 'O', 'O', 'O', 'O', 'O', 'O', 'O', 'O', 'O', 'O', 'O'], 'links': {}}, 'token_annotation': {'ORTH': ['APT3', 'has', 'used', 'PowerShell', 'on', 'victim', 'systems', 'to', 'download', 'and', 'run', 'payloads', 'after', 'exploitation', '.'], 'SPACY': [True, True, True, True, True, True, True, True, True, True, True, True, True, False, False], 'TAG': ['', '', '', '', '', '', '', '', '', '', '', '', '', '', ''], 'LEMMA': ['', '', '', '', '', '', '', '', '', '', '', '', '', '', ''], 'POS': ['', '', '', '', '', '', '', '', '', '', '', '', '', '', ''], 'MORPH': ['', '', '', '', '', '', '', '', '', '', '', '', '', '', ''], 'HEAD': [0, 1, 2, 3, 4, 5, 6, 7, 8, 9, 10, 11, 12, 13, 14], 'DEP': ['', '', '', '', '', '', '', '', '', '', '', '', '', '', ''], 'SENT_START': [1, 0, 0, 0, 0, 0, 0, 0, 0, 0, 0, 0, 0, 0, 0]}}, {'doc_annotation': {'cats': {}, 'entities': ['O', 'O', 'O', 'U-ExeFile', 'O', 'O', 'B-SensInfo', 'I-SensInfo', 'L-SensInfo', 'O', 'O', 'O', 'O', 'O'], 'links': {}}, 'token_annotation': {'ORTH': ['BloodHound', 'can', 'use', 'PowerShell', 'to', 'pull', 'Active', 'Directory', 'information', 'from', 'the', 'target', 'environment', '.'], 'SPACY': [True, True, True, True, True, True, True, True, True, True, True, True, False, False], 'TAG': ['', '', '', '', '', '', '', '', '', '', '', '', '', ''], 'LEMMA': ['', '', '', '', '', '', '', '', '', '', '', '', '', ''], 'POS': ['', '', '', '', '', '', '', '', '', '', '', '', '', ''], 'MORPH': ['', '', '', '', '', '', '', '', '', '', '', '', '', ''], 'HEAD': [0, 1, 2, 3, 4, 5, 6, 7, 8, 9, 10, 11, 12, 13], 'DEP': ['', '', '', '', '', '', '', '', '', '', '', '', '', ''], 'SENT_START': [1, 0, 0, 0, 0, 0, 0, 0, 0, 0, 0, 0, 0, 0]}}, {'doc_annotation': {'cats': {}, 'entities': ['B-APTFamily', 'L-APTFamily', 'O', 'O', 'O', 'U-ExeFile', 'O', 'O', 'O', 'O', 'O', 'O', 'O', 'O', 'O', 'O', 'O', 'O', 'O', 'O', 'O', 'O', 'O', 'B-APTFamily', 'L-APTFamily', 'O', 'O', 'O', 'O', 'O', 'O', 'U-ExeFile', 'O', 'O', 'O', 'O', 'O'], 'links': {}}, 'token_annotation': {'ORTH': ['Cobalt', 'Strike', 'can', 'execute', 'a', 'payload', 'on', 'a', 'remote', 'host', 'with', 'PowerShell', '.', 'This', 'technique', 'does', 'not', 'write', 'any', 'data', 'to', 'disk', '.', 'Cobalt', 'Strike', 'can', 'also', 'use', 'PowerSploit', 'and', 'other', 'scripting', 'frameworks', 'to', 'perform', 'execution', '.'], 'SPACY': [True, True, True, True, True, True, True, True, True, True, True, False, True, True, True, True, True, True, True, True, True, False, True, True, True, True, True, True, True, True, True, True, True, True, True, False, False], 'TAG': ['', '', '', '', '', '', '', '', '', '', '', '', '', '', '', '', '', '', '', '', '', '', '', '', '', '', '', '', '', '', '', '', '', '', '', '', ''], 'LEMMA': ['', '', '', '', '', '', '', '', '', '', '', '', '', '', '', '', '', '', '', '', '', '', '', '', '', '', '', '', '', '', '', '', '', '', '', '', ''], 'POS': ['', '', '', '', '', '', '', '', '', '', '', '', '', '', '', '', '', '', '', '', '', '', '', '', '', '', '', '', '', '', '', '', '', '', '', '', ''], 'MORPH': ['', '', '', '', '', '', '', '', '', '', '', '', '', '', '', '', '', '', '', '', '', '', '', '', '', '', '', '', '', '', '', '', '', '', '', '', ''], 'HEAD': [0, 1, 2, 3, 4, 5, 6, 7, 8, 9, 10, 11, 12, 13, 14, 15, 16, 17, 18, 19, 20, 21, 22, 23, 24, 25, 26, 27, 28, 29, 30, 31, 32, 33, 34, 35, 36], 'DEP': ['', '', '', '', '', '', '', '', '', '', '', '', '', '', '', '', '', '', '', '', '', '', '', '', '', '', '', '', '', '', '', '', '', '', '', '', ''], 'SENT_START': [1, 0, 0, 0, 0, 0, 0, 0, 0, 0, 0, 0, 0, 0, 0, 0, 0, 0, 0, 0, 0, 0, 0, 0, 0, 0, 0, 0, 0, 0, 0, 0, 0, 0, 0, 0, 0]}}, {'doc_annotation': {'cats': {}, 'entities': ['B-APTFamily', 'L-APTFamily', 'O', 'O', 'B-ExeFile', 'L-ExeFile', 'O', 'O', 'O', 'O', 'O', 'O', 'O', 'O', 'O', 'O', 'O', 'O', 'O'], 'links': {}}, 'token_annotation': {'ORTH': ['Deep', 'Panda', 'has', 'used', 'PowerShell', 'scripts', 'to', 'download', 'and', 'execute', 'programs', 'in', 'memory', ',', 'without', 'writing', 'to', 'disk', '.'], 'SPACY': [True, True, True, True, True, True, True, True, True, True, True, True, False, True, True, True, True, False, False], 'TAG': ['', '', '', '', '', '', '', '', '', '', '', '', '', '', '', '', '', '', ''], 'LEMMA': ['', '', '', '', '', '', '', '', '', '', '', '', '', '', '', '', '', '', ''], 'POS': ['', '', '', '', '', '', '', '', '', '', '', '', '', '', '', '', '', '', ''], 'MORPH': ['', '', '', '', '', '', '', '', '', '', '', '', '', '', '', '', '', '', ''], 'HEAD': [0, 1, 2, 3, 4, 5, 6, 7, 8, 9, 10, 11, 12, 13, 14, 15, 16, 17, 18], 'DEP': ['', '', '', '', '', '', '', '', '', '', '', '', '', '', '', '', '', '', ''], 'SENT_START': [1, 0, 0, 0, 0, 0, 0, 0, 0, 0, 0, 0, 0, 0, 0, 0, 0, 0, 0]}}, {'doc_annotation': {'cats': {}, 'entities': ['O', 'O', 'O', 'O', 'O', 'O', 'B-ScriptsFile', 'L-ScriptsFile', 'O'], 'links': {}}, 'token_annotation': {'ORTH': ['FatDuke', 'has', 'the', 'ability', 'to', 'execute', 'PowerShell', 'scripts', '.'], 'SPACY': [True, True, True, True, True, True, True, False, False], 'TAG': ['', '', '', '', '', '', '', '', ''], 'LEMMA': ['', '', '', '', '', '', '', '', ''], 'POS': ['', '', '', '', '', '', '', '', ''], 'MORPH': ['', '', '', '', '', '', '', '', ''], 'HEAD': [0, 1, 2, 3, 4, 5, 6, 7, 8], 'DEP': ['', '', '', '', '', '', '', '', ''], 'SENT_START': [1, 0, 0, 0, 0, 0, 0, 0, 0]}}, {'doc_annotation': {'cats': {}, 'entities': ['O', 'O', 'O', 'O', 'O', 'B-ExeFile', 'L-ExeFile', 'O', 'O', 'O', 'O'], 'links': {}}, 'token_annotation': {'ORTH': ['Gallmaker', 'used', 'PowerShell', 'to', 'download', 'additional', 'payloads', 'and', 'for', 'execution', '.'], 'SPACY': [True, True, True, True, True, True, True, True, True, False, False], 'TAG': ['', '', '', '', '', '', '', '', '', '', ''], 'LEMMA': ['', '', '', '', '', '', '', '', '', '', ''], 'POS': ['', '', '', '', '', '', '', '', '', '', ''], 'MORPH': ['', '', '', '', '', '', '', '', '', '', ''], 'HEAD': [0, 1, 2, 3, 4, 5, 6, 7, 8, 9, 10], 'DEP': ['', '', '', '', '', '', '', '', '', '', ''], 'SENT_START': [1, 0, 0, 0, 0, 0, 0, 0, 0, 0, 0]}}, {'doc_annotation': {'cats': {}, 'entities': ['O', 'O', 'O', 'O', 'O', 'O', 'B-ExeFile', 'L-ExeFile', 'O'], 'links': {}}, 'token_annotation': {'ORTH': ['One', 'version', 'of', 'Helminth', 'uses', 'a', 'PowerShell', 'script', '.'], 'SPACY': [True, True, True, True, True, True, True, False, False], 'TAG': ['', '', '', '', '', '', '', '', ''], 'LEMMA': ['', '', '', '', '', '', '', '', ''], 'POS': ['', '', '', '', '', '', '', '', ''], 'MORPH': ['', '', '', '', '', '', '', '', ''], 'HEAD': [0, 1, 2, 3, 4, 5, 6, 7, 8], 'DEP': ['', '', '', '', '', '', '', '', ''], 'SENT_START': [1, 0, 0, 0, 0, 0, 0, 0, 0]}}, {'doc_annotation': {'cats': {}, 'entities': ['U-APTFamily', 'O', 'O', 'O', 'B-ExeFile', 'L-ExeFile', 'O', 'O', 'O', 'B-ExeFile', 'L-ExeFile', 'O'], 'links': {}}, 'token_annotation': {'ORTH': ['Pillowmint', 'has', 'used', 'a', 'PowerShell', 'script', 'to', 'install', 'a', 'shim', 'database', '.'], 'SPACY': [True, True, True, True, True, True, True, True, True, True, False, False], 'TAG': ['', '', '', '', '', '', '', '', '', '', '', ''], 'LEMMA': ['', '', '', '', '', '', '', '', '', '', '', ''], 'POS': ['', '', '', '', '', '', '', '', '', '', '', ''], 'MORPH': ['', '', '', '', '', '', '', '', '', '', '', ''], 'HEAD': [0, 1, 2, 3, 4, 5, 6, 7, 8, 9, 10, 11], 'DEP': ['', '', '', '', '', '', '', '', '', '', '', ''], 'SENT_START': [1, 0, 0, 0, 0, 0, 0, 0, 0, 0, 0, 0]}}, {'doc_annotation': {'cats': {}, 'entities': ['O', 'O', 'B-ExeFile', 'L-ExeFile', 'O', 'O', 'O'], 'links': {}}, 'token_annotation': {'ORTH': ['QUADAGENT', 'uses', 'PowerShell', 'scripts', 'for', 'execution', '.'], 'SPACY': [True, True, True, True, True, False, False], 'TAG': ['', '', '', '', '', '', ''], 'LEMMA': ['', '', '', '', '', '', ''], 'POS': ['', '', '', '', '', '', ''], 'MORPH': ['', '', '', '', '', '', ''], 'HEAD': [0, 1, 2, 3, 4, 5, 6], 'DEP': ['', '', '', '', '', '', ''], 'SENT_START': [1, 0, 0, 0, 0, 0, 0]}}, {'doc_annotation': {'cats': {}, 'entities': ['O', 'O', 'O', 'O', 'O', 'O', 'U-ExeFile', 'O', 'U-ExeFile', 'O', 'O', 'O', 'O', 'O', 'O'], 'links': {}}, 'token_annotation': {'ORTH': ['SeaDuke', 'uses', 'a', 'module', 'to', 'execute', 'Mimikatz', 'with', 'PowerShell', 'to', 'perform', 'Pass', 'the', 'Ticket', '.'], 'SPACY': [True, True, True, True, True, True, True, True, True, True, True, True, True, False, False], 'TAG': ['', '', '', '', '', '', '', '', '', '', '', '', '', '', ''], 'LEMMA': ['', '', '', '', '', '', '', '', '', '', '', '', '', '', ''], 'POS': ['', '', '', '', '', '', '', '', '', '', '', '', '', '', ''], 'MORPH': ['', '', '', '', '', '', '', '', '', '', '', '', '', '', ''], 'HEAD': [0, 1, 2, 3, 4, 5, 6, 7, 8, 9, 10, 11, 12, 13, 14], 'DEP': ['', '', '', '', '', '', '', '', '', '', '', '', '', '', ''], 'SENT_START': [1, 0, 0, 0, 0, 0, 0, 0, 0, 0, 0, 0, 0, 0, 0]}}, {'doc_annotation': {'cats': {}, 'entities': ['O', 'O', 'O', 'O', 'O', 'O', 'O', 'B-C2C', 'L-C2C', 'O'], 'links': {}}, 'token_annotation': {'ORTH': ['SQLRat', 'has', 'used', 'PowerShell', 'to', 'create', 'a', 'Meterpreter', 'session', '.'], 'SPACY': [True, True, True, True, True, True, True, True, False, False], 'TAG': ['', '', '', '', '', '', '', '', '', ''], 'LEMMA': ['', '', '', '', '', '', '', '', '', ''], 'POS': ['', '', '', '', '', '', '', '', '', ''], 'MORPH': ['', '', '', '', '', '', '', '', '', ''], 'HEAD': [0, 1, 2, 3, 4, 5, 6, 7, 8, 9], 'DEP': ['', '', '', '', '', '', '', '', '', ''], 'SENT_START': [1, 0, 0, 0, 0, 0, 0, 0, 0, 0]}}, {'doc_annotation': {'cats': {}, 'entities': ['B-APTFamily', 'L-APTFamily', 'O', 'O', 'O', 'O', 'O', 'O'], 'links': {}}, 'token_annotation': {'ORTH': ['Threat', 'Group-3390', 'has', 'used', 'PowerShell', 'for', 'execution', '.'], 'SPACY': [True, True, True, True, True, True, False, False], 'TAG': ['', '', '', '', '', '', '', ''], 'LEMMA': ['', '', '', '', '', '', '', ''], 'POS': ['', '', '', '', '', '', '', ''], 'MORPH': ['', '', '', '', '', '', '', ''], 'HEAD': [0, 1, 2, 3, 4, 5, 6, 7], 'DEP': ['', '', '', '', '', '', '', ''], 'SENT_START': [1, 0, 0, 0, 0, 0, 0, 0]}}, {'doc_annotation': {'cats': {}, 'entities': ['O', 'O', 'O', 'O', 'O', 'O', 'O', 'U-C2C', 'O'], 'links': {}}, 'token_annotation': {'ORTH': ['WellMess', 'can', 'execute', 'PowerShell', 'scripts', 'received', 'from', 'C2', '.'], 'SPACY': [True, True, True, True, True, True, True, False, False], 'TAG': ['', '', '', '', '', '', '', '', ''], 'LEMMA': ['', '', '', '', '', '', '', '', ''], 'POS': ['', '', '', '', '', '', '', '', ''], 'MORPH': ['', '', '', '', '', '', '', '', ''], 'HEAD': [0, 1, 2, 3, 4, 5, 6, 7, 8], 'DEP': ['', '', '', '', '', '', '', '', ''], 'SENT_START': [1, 0, 0, 0, 0, 0, 0, 0, 0]}}, {'doc_annotation': {'cats': {}, 'entities': ['O', 'O', 'O', 'O', 'O', 'O', 'B-DocumentFile', 'L-DocumentFile', 'O', 'O', 'O'], 'links': {}}, 'token_annotation': {'ORTH': ['Dok', 'uses', 'AppleScript', 'to', 'create', 'a', 'login', 'item', 'for', 'persistence', '.'], 'SPACY': [True, True, True, True, True, True, True, True, True, False, False], 'TAG': ['', '', '', '', '', '', '', '', '', '', ''], 'LEMMA': ['', '', '', '', '', '', '', '', '', '', ''], 'POS': ['', '', '', '', '', '', '', '', '', '', ''], 'MORPH': ['', '', '', '', '', '', '', '', '', '', ''], 'HEAD': [0, 1, 2, 3, 4, 5, 6, 7, 8, 9, 10], 'DEP': ['', '', '', '', '', '', '', '', '', '', ''], 'SENT_START': [1, 0, 0, 0, 0, 0, 0, 0, 0, 0, 0]}}, {'doc_annotation': {'cats': {}, 'entities': ['O', 'O', 'O', 'O', 'O', 'O', 'O', 'O', 'O', 'O', 'O'], 'links': {}}, 'token_annotation': {'ORTH': ['Anchor', 'has', 'used', 'cmd.exe', 'to', 'run', 'its', 'self', 'deletion', 'routine', '.'], 'SPACY': [True, True, True, True, True, True, True, True, True, False, False], 'TAG': ['', '', '', '', '', '', '', '', '', '', ''], 'LEMMA': ['', '', '', '', '', '', '', '', '', '', ''], 'POS': ['', '', '', '', '', '', '', '', '', '', ''], 'MORPH': ['', '', '', '', '', '', '', '', '', '', ''], 'HEAD': [0, 1, 2, 3, 4, 5, 6, 7, 8, 9, 10], 'DEP': ['', '', '', '', '', '', '', '', '', '', ''], 'SENT_START': [1, 0, 0, 0, 0, 0, 0, 0, 0, 0, 0]}}, {'doc_annotation': {'cats': {}, 'entities': ['U-APTFamily', 'O', 'O', 'O', 'B-ExeFile', 'I-ExeFile', 'I-ExeFile', 'L-ExeFile', 'O'], 'links': {}}, 'token_annotation': {'ORTH': ['APT37', 'has', 'used', 'the', 'command', '-', 'line', 'interface', '.'], 'SPACY': [True, True, True, True, False, False, True, False, False], 'TAG': ['', '', '', '', '', '', '', '', ''], 'LEMMA': ['', '', '', '', '', '', '', '', ''], 'POS': ['', '', '', '', '', '', '', '', ''], 'MORPH': ['', '', '', '', '', '', '', '', ''], 'HEAD': [0, 1, 2, 3, 4, 5, 6, 7, 8], 'DEP': ['', '', '', '', '', '', '', '', ''], 'SENT_START': [1, 0, 0, 0, 0, 0, 0, 0, 0]}}, {'doc_annotation': {'cats': {}, 'entities': ['O', 'O', 'O', 'O', 'O', 'B-ExeFile', 'L-ExeFile', 'O', 'O', 'U-ExeFile', 'O', 'O', 'O', 'O', 'O'], 'links': {}}, 'token_annotation': {'ORTH': ['BackConfig', 'can', 'download', 'and', 'run', 'batch', 'files', 'to', 'execute', 'commands', 'on', 'a', 'compromised', 'host', '.'], 'SPACY': [True, True, True, True, True, True, True, True, True, True, True, True, True, False, False], 'TAG': ['', '', '', '', '', '', '', '', '', '', '', '', '', '', ''], 'LEMMA': ['', '', '', '', '', '', '', '', '', '', '', '', '', '', ''], 'POS': ['', '', '', '', '', '', '', '', '', '', '', '', '', '', ''], 'MORPH': ['', '', '', '', '', '', '', '', '', '', '', '', '', '', ''], 'HEAD': [0, 1, 2, 3, 4, 5, 6, 7, 8, 9, 10, 11, 12, 13, 14], 'DEP': ['', '', '', '', '', '', '', '', '', '', '', '', '', '', ''], 'SENT_START': [1, 0, 0, 0, 0, 0, 0, 0, 0, 0, 0, 0, 0, 0, 0]}}, {'doc_annotation': {'cats': {}, 'entities': ['O', 'O', 'O', 'O', 'O', 'O', 'O', 'B-ExeFile', 'L-ExeFile', 'O', 'O', 'O', 'O'], 'links': {}}, 'token_annotation': {'ORTH': ['BISCUIT', 'has', 'a', 'command', 'to', 'launch', 'a', 'command', 'shell', 'on', 'the', 'system', '.'], 'SPACY': [True, True, True, True, True, True, True, True, True, True, True, False, False], 'TAG': ['', '', '', '', '', '', '', '', '', '', '', '', ''], 'LEMMA': ['', '', '', '', '', '', '', '', '', '', '', '', ''], 'POS': ['', '', '', '', '', '', '', '', '', '', '', '', ''], 'MORPH': ['', '', '', '', '', '', '', '', '', '', '', '', ''], 'HEAD': [0, 1, 2, 3, 4, 5, 6, 7, 8, 9, 10, 11, 12], 'DEP': ['', '', '', '', '', '', '', '', '', '', '', '', ''], 'SENT_START': [1, 0, 0, 0, 0, 0, 0, 0, 0, 0, 0, 0, 0]}}, {'doc_annotation': {'cats': {}, 'entities': ['O', 'O', 'O', 'O', 'O', 'O', 'O', 'O', 'O', 'O', 'O'], 'links': {}}, 'token_annotation': {'ORTH': ['CALENDAR', 'has', 'a', 'command', 'to', 'run', 'cmd.exe', 'to', 'execute', 'commands', '.'], 'SPACY': [True, True, True, True, True, True, True, True, True, False, False], 'TAG': ['', '', '', '', '', '', '', '', '', '', ''], 'LEMMA': ['', '', '', '', '', '', '', '', '', '', ''], 'POS': ['', '', '', '', '', '', '', '', '', '', ''], 'MORPH': ['', '', '', '', '', '', '', '', '', '', ''], 'HEAD': [0, 1, 2, 3, 4, 5, 6, 7, 8, 9, 10], 'DEP': ['', '', '', '', '', '', '', '', '', '', ''], 'SENT_START': [1, 0, 0, 0, 0, 0, 0, 0, 0, 0, 0]}}, {'doc_annotation': {'cats': {}, 'entities': ['B-APTFamily', 'L-APTFamily', 'O', 'O', 'O', 'B-ExeFile', 'L-ExeFile', 'O', 'O', 'O', 'O', 'O', 'O', 'O', 'O', 'B-ExeFile', 'L-ExeFile', 'O', 'B-APTFamily', 'L-APTFamily', 'O', 'O', 'O', 'O', 'U-ExeFile', 'O', 'O', 'O', 'O', 'O', 'O', 'O', 'O'], 'links': {}}, 'token_annotation': {'ORTH': ['Cobalt', 'Group', 'has', 'used', 'a', 'JavaScript', 'backdoor', 'that', 'is', 'capable', 'of', 'launching', 'cmd.exe', 'to', 'execute', 'shell', 'commands', '.', 'The', 'group', 'has', 'used', 'an', 'exploit', 'toolkit', 'known', 'as', 'Threadkit', 'that', 'launches', '.bat', 'files', '.'], 'SPACY': [True, True, True, True, True, True, True, True, True, True, True, True, True, True, True, True, False, True, True, True, True, True, True, True, True, True, True, True, True, True, True, False, False], 'TAG': ['', '', '', '', '', '', '', '', '', '', '', '', '', '', '', '', '', '', '', '', '', '', '', '', '', '', '', '', '', '', '', '', ''], 'LEMMA': ['', '', '', '', '', '', '', '', '', '', '', '', '', '', '', '', '', '', '', '', '', '', '', '', '', '', '', '', '', '', '', '', ''], 'POS': ['', '', '', '', '', '', '', '', '', '', '', '', '', '', '', '', '', '', '', '', '', '', '', '', '', '', '', '', '', '', '', '', ''], 'MORPH': ['', '', '', '', '', '', '', '', '', '', '', '', '', '', '', '', '', '', '', '', '', '', '', '', '', '', '', '', '', '', '', '', ''], 'HEAD': [0, 1, 2, 3, 4, 5, 6, 7, 8, 9, 10, 11, 12, 13, 14, 15, 16, 17, 18, 19, 20, 21, 22, 23, 24, 25, 26, 27, 28, 29, 30, 31, 32], 'DEP': ['', '', '', '', '', '', '', '', '', '', '', '', '', '', '', '', '', '', '', '', '', '', '', '', '', '', '', '', '', '', '', '', ''], 'SENT_START': [1, 0, 0, 0, 0, 0, 0, 0, 0, 0, 0, 0, 0, 0, 0, 0, 0, 0, 0, 0, 0, 0, 0, 0, 0, 0, 0, 0, 0, 0, 0, 0, 0]}}, {'doc_annotation': {'cats': {}, 'entities': ['O', 'O', 'O', 'U-APTFamily', 'O', 'B-ExeFile', 'L-ExeFile', 'O', 'O', 'O', 'O', 'O', 'O', 'O'], 'links': {}}, 'token_annotation': {'ORTH': ['A', 'module', 'in', 'CozyCar', 'allows', 'arbitrary', 'commands', 'to', 'be', 'executed', 'by', 'invoking', 'C:\\\\Windows\\\\System32\\\\cmd.exe', '.'], 'SPACY': [True, True, True, True, True, True, True, True, True, True, True, True, False, False], 'TAG': ['', '', '', '', '', '', '', '', '', '', '', '', '', ''], 'LEMMA': ['', '', '', '', '', '', '', '', '', '', '', '', '', ''], 'POS': ['', '', '', '', '', '', '', '', '', '', '', '', '', ''], 'MORPH': ['', '', '', '', '', '', '', '', '', '', '', '', '', ''], 'HEAD': [0, 1, 2, 3, 4, 5, 6, 7, 8, 9, 10, 11, 12, 13], 'DEP': ['', '', '', '', '', '', '', '', '', '', '', '', '', ''], 'SENT_START': [1, 0, 0, 0, 0, 0, 0, 0, 0, 0, 0, 0, 0, 0]}}]\n"
     ]
    }
   ],
   "source": [
    "# Data format converting\n",
    "spacy_data = []\n",
    "for entry in labeled_data:\n",
    "    entities = []\n",
    "    for e in entry['label']:\n",
    "        entities.append((e[0], e[1], e[2]))\n",
    "    spacy_data.append(Example.from_dict(nlp.make_doc(entry['data']), {\"entities\": entities}))\n",
    "    # spacy_data.append((entry['data'], {\"entities\": entities}))\n",
    "print(spacy_data)"
   ],
   "metadata": {
    "collapsed": false,
    "pycharm": {
     "name": "#%%\n"
    }
   }
  },
  {
   "cell_type": "code",
   "execution_count": 59,
   "outputs": [
    {
     "name": "stdout",
     "output_type": "stream",
     "text": [
      "---Start Training!---\n",
      "---Save Model to None!---\n"
     ]
    }
   ],
   "source": [
    "# Start training\n",
    "print(\"---Start Training!---\")\n",
    "new_model_location = \"/home/zhenyuan/AttacKG/NLP/new_cti.model\"\n",
    "\n",
    "# Loop\n",
    "other_pipes = [pipe for pipe in nlp.pipe_names if pipe != 'ner']\n",
    "with nlp.disable_pipes(*other_pipes):\n",
    "    for itn in range(4):\n",
    "        random.shuffle(spacy_data)\n",
    "        losses = ()\n",
    "\n",
    "        # Batch the examples\n",
    "        for batch in spacy.util.minibatch(spacy_data, size=2):\n",
    "            # Update the model\n",
    "            nlp.update(batch, sgd=optimizer) #, drop=0.35, losses=losses\n",
    "            # print('Losses', losses)\n",
    "\n",
    "nlp.to_disk(new_model_location)\n",
    "print(\"---Save Model to %s!---\" % model_location)"
   ],
   "metadata": {
    "collapsed": false,
    "pycharm": {
     "name": "#%%\n"
    }
   }
  },
  {
   "cell_type": "code",
   "execution_count": 57,
   "metadata": {},
   "outputs": [
    {
     "data": {
      "text/plain": "<IPython.core.display.HTML object>",
      "text/html": "<span class=\"tex2jax_ignore\"><div class=\"entities\" style=\"line-height: 2.5; direction: ltr\">APT3 has used \n<mark class=\"entity\" style=\"background: #ddd; padding: 0.45em 0.6em; margin: 0 0.25em; line-height: 1; border-radius: 0.35em;\">\n    PowerShell\n    <span style=\"font-size: 0.8em; font-weight: bold; line-height: 1; border-radius: 0.35em; vertical-align: middle; margin-left: 0.5rem\">ExeFile</span>\n</mark>\n on victim systems to download and run payloads after exploitation.</div></span>"
     },
     "metadata": {},
     "output_type": "display_data"
    }
   ],
   "source": [
    "#def test_model(sample = sample):\n",
    "doc = nlp(sample)\n",
    "displacy.render(doc, style='ent')"
   ]
  },
  {
   "cell_type": "code",
   "execution_count": 61,
   "outputs": [
    {
     "data": {
      "text/plain": "<IPython.core.display.HTML object>",
      "text/html": "<span class=\"tex2jax_ignore\"><div class=\"entities\" style=\"line-height: 2.5; direction: ltr\">MCMD can use \n<mark class=\"entity\" style=\"background: #ddd; padding: 0.45em 0.6em; margin: 0 0.25em; line-height: 1; border-radius: 0.35em;\">\n    Registry\n    <span style=\"font-size: 0.8em; font-weight: bold; line-height: 1; border-radius: 0.35em; vertical-align: middle; margin-left: 0.5rem\">ExeFile</span>\n</mark>\n Run Keys for persistence.</div></span>"
     },
     "metadata": {},
     "output_type": "display_data"
    }
   ],
   "source": [
    "sample = \"MCMD can use Registry Run Keys for persistence.\"\n",
    "nlp = spacy.load(new_model_location)\n",
    "# nlp = spacy.load(\"en_core_web_sm\")\n",
    "doc = nlp(sample)\n",
    "displacy.render(doc, style = 'ent')"
   ],
   "metadata": {
    "collapsed": false,
    "pycharm": {
     "name": "#%%\n"
    }
   }
  },
  {
   "cell_type": "code",
   "execution_count": 48,
   "outputs": [
    {
     "name": "stderr",
     "output_type": "stream",
     "text": [
      "UsageError: Line magic function `%run('pwd')` not found.\n"
     ]
    }
   ],
   "source": [],
   "metadata": {
    "collapsed": false,
    "pycharm": {
     "name": "#%%\n"
    }
   }
  }
 ],
 "metadata": {
  "kernelspec": {
   "display_name": "Python 3",
   "language": "python",
   "name": "python3"
  },
  "language_info": {
   "codemirror_mode": {
    "name": "ipython",
    "version": 3
   },
   "file_extension": ".py",
   "mimetype": "text/x-python",
   "name": "python",
   "nbconvert_exporter": "python",
   "pygments_lexer": "ipython3",
   "version": "3.8.2"
  }
 },
 "nbformat": 4,
 "nbformat_minor": 4
}