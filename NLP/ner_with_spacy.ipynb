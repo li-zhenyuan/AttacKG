{
 "cells": [
  {
   "cell_type": "code",
   "execution_count": 1,
   "metadata": {},
   "outputs": [],
   "source": [
    "import spacy\n",
    "import random\n",
    "import json"
   ]
  },
  {
   "cell_type": "code",
   "execution_count": 11,
   "metadata": {},
   "outputs": [
    {
     "name": "stdout",
     "output_type": "stream",
     "text": [
      "{\"entities\": [{\"start\": 0, \"end\": 13, \"label\": \"APTFamily\"}, {\"start\": 47, \"end\": 56, \"label\": \"ScriptsFile\"}, {\"start\": 66, \"end\": 76, \"label\": \"ExeFile\"}], \"text\": \"Cobalt Strike can use known credentials to run commands and spawn processes as a domain user account.\"}\n",
      "{\"entities\": [{\"start\": 0, \"end\": 14, \"label\": \"APTFamily\"}, {\"start\": 79, \"end\": 88, \"label\": \"ExeFile\"}], \"text\": \"Tropic Trooper has used known administrator account credentials to execute the backdoor directly.\"}\n",
      "{\"entities\": [{\"start\": 0, \"end\": 8, \"label\": \"APTFamily\"}, {\"start\": 28, \"end\": 42, \"label\": \"C2C\"}], \"text\": \"Bonadan can create bind and reverse shells on the infected system.\"}\n",
      "{\"entities\": [{\"start\": 0, \"end\": 5, \"label\": \"APTFamily\"}, {\"start\": 14, \"end\": 24, \"label\": \"ExeFile\"}, {\"start\": 83, \"end\": 87, \"label\": \"DocumentFile\"}, {\"start\": 93, \"end\": 101, \"label\": \"DocumentFile\"}, {\"start\": 118, \"end\": 137, \"label\": \"DocumentFile\"}], \"text\": \"FIN6 has used scripting to iterate through a list of compromised PoS systems, copy data to a log file, and remove the original data files.\"}\n",
      "{\"entities\": [{\"start\": 0, \"end\": 7, \"label\": \"APTFamily\"}, {\"start\": 20, \"end\": 33, \"label\": \"C2C\"}, {\"start\": 46, \"end\": 59, \"label\": \"NetLoc\"}], \"text\": \"Kessel can create a reverse shell between the infected host and a specified system.\"}\n",
      "{\"entities\": [{\"start\": 0, \"end\": 9, \"label\": \"APTFamily\"}, {\"start\": 27, \"end\": 39, \"label\": \"C2C\"}, {\"start\": 72, \"end\": 81, \"label\": \"NetLoc\"}], \"text\": \"Whitefly has used a simple remote shell tool that will call back to the C2 server and wait for commands.\"}\n",
      "{\"entities\": [{\"start\": 0, \"end\": 5, \"label\": \"APTFamily\"}, {\"start\": 14, \"end\": 24, \"label\": \"ExeFile\"}, {\"start\": 63, \"end\": 72, \"label\": \"ExeFile\"}], \"text\": \"APT3 has used PowerShell on victim systems to download and run payloads after exploitation.\"}\n",
      "{\"entities\": [{\"start\": 0, \"end\": 11, \"label\": \"APTFamily\"}, {\"start\": 19, \"end\": 29, \"label\": \"ExeFile\"}, {\"start\": 38, \"end\": 66, \"label\": \"SensInfo\"}], \"text\": \"BloodHound can use PowerShell to pull Active Directory information from the target environment.\"}\n",
      "{\"entities\": [{\"start\": 0, \"end\": 13, \"label\": \"APTFamily\"}, {\"start\": 28, \"end\": 35, \"label\": \"ExeFile\"}, {\"start\": 118, \"end\": 131, \"label\": \"APTFamily\"}, {\"start\": 145, \"end\": 157, \"label\": \"ExeFile\"}, {\"start\": 167, \"end\": 176, \"label\": \"ExeFile\"}], \"text\": \"Cobalt Strike can execute a payload on a remote host with PowerShell. This technique does not write any data to disk. Cobalt Strike can also use PowerSploit and other scripting frameworks to perform execution.\"}\n",
      "{\"entities\": [{\"start\": 0, \"end\": 10, \"label\": \"APTFamily\"}, {\"start\": 20, \"end\": 38, \"label\": \"ExeFile\"}, {\"start\": 63, \"end\": 72, \"label\": \"ExeFile\"}], \"text\": \"Deep Panda has used PowerShell scripts to download and execute programs in memory, without writing to disk.\"}\n",
      "{\"entities\": [{\"start\": 0, \"end\": 8, \"label\": \"APTFamily\"}, {\"start\": 35, \"end\": 53, \"label\": \"ScriptsFile\"}], \"text\": \"FatDuke has the ability to execute PowerShell scripts.\"}\n",
      "{\"entities\": [{\"start\": 0, \"end\": 10, \"label\": \"APTFamily\"}, {\"start\": 38, \"end\": 57, \"label\": \"ExeFile\"}, {\"start\": 15, \"end\": 26, \"label\": \"ExeFile\"}], \"text\": \"Gallmaker used PowerShell to download additional payloads and for execution.\"}\n",
      "{\"entities\": [{\"start\": 15, \"end\": 24, \"label\": \"APTFamily\"}, {\"start\": 31, \"end\": 48, \"label\": \"ExeFile\"}], \"text\": \"One version of Helminth uses a PowerShell script.\"}\n",
      "{\"entities\": [{\"start\": 0, \"end\": 10, \"label\": \"APTFamily\"}, {\"start\": 22, \"end\": 39, \"label\": \"ExeFile\"}, {\"start\": 53, \"end\": 66, \"label\": \"ExeFile\"}], \"text\": \"Pillowmint has used a PowerShell script to install a shim database.\"}\n",
      "{\"entities\": [{\"start\": 0, \"end\": 10, \"label\": \"APTFamily\"}, {\"start\": 15, \"end\": 33, \"label\": \"ExeFile\"}], \"text\": \"QUADAGENT uses PowerShell scripts for execution.\"}\n",
      "{\"entities\": [{\"start\": 0, \"end\": 8, \"label\": \"APTFamily\"}, {\"start\": 33, \"end\": 41, \"label\": \"ExeFile\"}, {\"start\": 47, \"end\": 57, \"label\": \"ExeFile\"}], \"text\": \"SeaDuke uses a module to execute Mimikatz with PowerShell to perform Pass the Ticket.\"}\n",
      "{\"entities\": [{\"start\": 0, \"end\": 7, \"label\": \"APTFamily\"}, {\"start\": 16, \"end\": 27, \"label\": \"ExeFile\"}, {\"start\": 39, \"end\": 58, \"label\": \"C2C\"}], \"text\": \"SQLRat has used PowerShell to create a Meterpreter session.\"}\n",
      "{\"entities\": [{\"start\": 0, \"end\": 17, \"label\": \"APTFamily\"}, {\"start\": 27, \"end\": 38, \"label\": \"ExeFile\"}], \"text\": \"Threat Group-3390 has used PowerShell for execution.\"}\n",
      "{\"entities\": [{\"start\": 0, \"end\": 9, \"label\": \"APTFamily\"}, {\"start\": 21, \"end\": 32, \"label\": \"ExeFile\"}, {\"start\": 54, \"end\": 56, \"label\": \"C2C\"}], \"text\": \"WellMess can execute PowerShell scripts received from C2.\"}\n",
      "{\"entities\": [{\"start\": 0, \"end\": 4, \"label\": \"APTFamily\"}, {\"start\": 9, \"end\": 21, \"label\": \"ExeFile\"}, {\"start\": 33, \"end\": 43, \"label\": \"DocumentFile\"}], \"text\": \"Dok uses AppleScript to create a login item for persistence.\"}\n",
      "{\"entities\": [{\"start\": 0, \"end\": 7, \"label\": \"APTFamily\"}], \"text\": \"Anchor has used cmd.exe to run its self deletion routine.\"}\n",
      "{\"entities\": [{\"start\": 0, \"end\": 5, \"label\": \"APTFamily\"}, {\"start\": 19, \"end\": 41, \"label\": \"ExeFile\"}], \"text\": \"APT37 has used the command-line interface.\"}\n",
      "{\"entities\": [{\"start\": 0, \"end\": 11, \"label\": \"APTFamily\"}, {\"start\": 32, \"end\": 43, \"label\": \"ExeFile\"}, {\"start\": 55, \"end\": 63, \"label\": \"ExeFile\"}], \"text\": \"BackConfig can download and run batch files to execute commands on a compromised host.\"}\n",
      "{\"entities\": [{\"start\": 0, \"end\": 8, \"label\": \"APTFamily\"}, {\"start\": 34, \"end\": 47, \"label\": \"ExeFile\"}], \"text\": \"BISCUIT has a command to launch a command shell on the system.\"}\n",
      "{\"entities\": [{\"start\": 0, \"end\": 9, \"label\": \"APTFamily\"}], \"text\": \"CALENDAR has a command to run cmd.exe to execute commands.\"}\n",
      "{\"entities\": [{\"start\": 0, \"end\": 12, \"label\": \"APTFamily\"}, {\"start\": 24, \"end\": 43, \"label\": \"ExeFile\"}, {\"start\": 92, \"end\": 106, \"label\": \"ExeFile\"}, {\"start\": 138, \"end\": 145, \"label\": \"ExeFile\"}, {\"start\": 108, \"end\": 117, \"label\": \"APTFamily\"}], \"text\": \"Cobalt Group has used a JavaScript backdoor that is capable of launching cmd.exe to execute shell commands. The group has used an exploit toolkit known as Threadkit that launches .bat files.\"}\n",
      "{\"entities\": [{\"start\": 12, \"end\": 19, \"label\": \"APTFamily\"}, {\"start\": 27, \"end\": 45, \"label\": \"ExeFile\"}], \"text\": \"A module in CozyCar allows arbitrary commands to be executed by invoking C:\\\\Windows\\\\System32\\\\cmd.exe.\"}\n"
     ]
    }
   ],
   "source": [
    "# Data Preparation\n",
    "import json\n",
    "labeled_data = []\n",
    "with open(r\"AllenNLP/admin.jsonl\", \"r\") as read_file:\n",
    "    for line in read_file:\n",
    "        data = json.loads(line)\n",
    "        labeled_data.append(data)\n",
    "        if \"label\" in line:\n",
    "            data[\"entities\"] = data.pop(\"label\")\n",
    "        else:\n",
    "            data[\"entities\"] = []\n",
    "            \n",
    "        tmp_ents = []\n",
    "        for e in data[\"entities\"]:\n",
    "#             if e[2] in ['APTFamily', 'ExeFile', 'ScriptsFile']\n",
    "            tmp_ents.append({\"start\": e[0], \"end\": e[1], \"label\": e[2]})\n",
    "        \n",
    "            data[\"entities\"] = tmp_ents\n",
    "        \n",
    "        if len(data[\"data\"]) > 5:\n",
    "            print (json.dumps({\"entities\": data[\"entities\"], \"text\": data[\"data\"]}))"
   ]
  },
  {
   "cell_type": "code",
   "execution_count": 3,
   "metadata": {},
   "outputs": [
    {
     "data": {
      "text/plain": [
       "[{'id': 41208,\n",
       "  'data': 'Cobalt Strike can use known credentials to run commands and spawn processes as a domain user account.',\n",
       "  'label': [[0, 13, 'APTFamily'],\n",
       "   [47, 56, 'ScriptsFile'],\n",
       "   [66, 76, 'ExeFile']]},\n",
       " {'id': 41220,\n",
       "  'data': 'Tropic Trooper has used known administrator account credentials to execute the backdoor directly.',\n",
       "  'label': [[0, 14, 'APTFamily'], [79, 88, 'ExeFile']]},\n",
       " {'id': 41226,\n",
       "  'data': 'Bonadan can create bind and reverse shells on the infected system.',\n",
       "  'label': [[0, 8, 'APTFamily'], [28, 42, 'C2C']]},\n",
       " {'id': 41232,\n",
       "  'data': 'FIN6 has used scripting to iterate through a list of compromised PoS systems, copy data to a log file, and remove the original data files.',\n",
       "  'label': [[0, 5, 'APTFamily'],\n",
       "   [14, 24, 'ExeFile'],\n",
       "   [83, 87, 'DocumentFile'],\n",
       "   [93, 101, 'DocumentFile'],\n",
       "   [118, 137, 'DocumentFile']]},\n",
       " {'id': 41238,\n",
       "  'data': 'Kessel can create a reverse shell between the infected host and a specified system.',\n",
       "  'label': [[0, 7, 'APTFamily'], [20, 33, 'C2C'], [46, 59, 'NetLoc']]},\n",
       " {'id': 41244,\n",
       "  'data': 'Whitefly has used a simple remote shell tool that will call back to the C2 server and wait for commands.',\n",
       "  'label': [[0, 9, 'APTFamily'], [27, 39, 'C2C'], [72, 81, 'NetLoc']]},\n",
       " {'id': 41250,\n",
       "  'data': 'APT3 has used PowerShell on victim systems to download and run payloads after exploitation.',\n",
       "  'label': [[0, 5, 'APTFamily'], [14, 24, 'ExeFile'], [63, 72, 'ExeFile']]},\n",
       " {'id': 41256,\n",
       "  'data': 'BloodHound can use PowerShell to pull Active Directory information from the target environment.',\n",
       "  'label': [[0, 11, 'APTFamily'], [19, 29, 'ExeFile'], [38, 66, 'SensInfo']]},\n",
       " {'id': 41262,\n",
       "  'data': 'Cobalt Strike can execute a payload on a remote host with PowerShell. This technique does not write any data to disk. Cobalt Strike can also use PowerSploit and other scripting frameworks to perform execution.',\n",
       "  'label': [[0, 13, 'APTFamily'],\n",
       "   [28, 35, 'ExeFile'],\n",
       "   [118, 131, 'APTFamily'],\n",
       "   [145, 157, 'ExeFile'],\n",
       "   [167, 176, 'ExeFile']]},\n",
       " {'id': 41268,\n",
       "  'data': 'Deep Panda has used PowerShell scripts to download and execute programs in memory, without writing to disk.',\n",
       "  'label': [[0, 10, 'APTFamily'], [20, 38, 'ExeFile'], [63, 72, 'ExeFile']]},\n",
       " {'id': 41274,\n",
       "  'data': 'FatDuke has the ability to execute PowerShell scripts.',\n",
       "  'label': [[0, 8, 'APTFamily'], [35, 53, 'ScriptsFile']]},\n",
       " {'id': 41280,\n",
       "  'data': 'Gallmaker used PowerShell to download additional payloads and for execution.',\n",
       "  'label': [[0, 10, 'APTFamily'], [38, 57, 'ExeFile'], [15, 26, 'ExeFile']]},\n",
       " {'id': 41286,\n",
       "  'data': 'One version of Helminth uses a PowerShell script.',\n",
       "  'label': [[15, 24, 'APTFamily'], [31, 48, 'ExeFile']]},\n",
       " {'id': 41304,\n",
       "  'data': 'Pillowmint has used a PowerShell script to install a shim database.',\n",
       "  'label': [[0, 10, 'APTFamily'], [22, 39, 'ExeFile'], [53, 66, 'ExeFile']]},\n",
       " {'id': 41316,\n",
       "  'data': 'QUADAGENT uses PowerShell scripts for execution.',\n",
       "  'label': [[0, 10, 'APTFamily'], [15, 33, 'ExeFile']]},\n",
       " {'id': 41322,\n",
       "  'data': 'SeaDuke uses a module to execute Mimikatz with PowerShell to perform Pass the Ticket.',\n",
       "  'label': [[0, 8, 'APTFamily'], [33, 41, 'ExeFile'], [47, 57, 'ExeFile']]},\n",
       " {'id': 41328,\n",
       "  'data': 'SQLRat has used PowerShell to create a Meterpreter session.',\n",
       "  'label': [[0, 7, 'APTFamily'], [16, 27, 'ExeFile'], [39, 58, 'C2C']]},\n",
       " {'id': 41334,\n",
       "  'data': 'Threat Group-3390 has used PowerShell for execution.',\n",
       "  'label': [[0, 17, 'APTFamily'], [27, 38, 'ExeFile']]},\n",
       " {'id': 41340,\n",
       "  'data': 'WellMess can execute PowerShell scripts received from C2.',\n",
       "  'label': [[0, 9, 'APTFamily'], [21, 32, 'ExeFile'], [54, 56, 'C2C']]},\n",
       " {'id': 41346,\n",
       "  'data': 'Dok uses AppleScript to create a login item for persistence.',\n",
       "  'label': [[0, 4, 'APTFamily'],\n",
       "   [9, 21, 'ExeFile'],\n",
       "   [33, 43, 'DocumentFile']]},\n",
       " {'id': 41352,\n",
       "  'data': 'Anchor has used cmd.exe to run its self deletion routine.',\n",
       "  'label': [[0, 7, 'APTFamily']]},\n",
       " {'id': 41358,\n",
       "  'data': 'APT37 has used the command-line interface.',\n",
       "  'label': [[0, 5, 'APTFamily'], [19, 41, 'ExeFile']]},\n",
       " {'id': 41364,\n",
       "  'data': 'BackConfig can download and run batch files to execute commands on a compromised host.',\n",
       "  'label': [[0, 11, 'APTFamily'], [32, 43, 'ExeFile'], [55, 63, 'ExeFile']]},\n",
       " {'id': 41370,\n",
       "  'data': 'BISCUIT has a command to launch a command shell on the system.',\n",
       "  'label': [[0, 8, 'APTFamily'], [34, 47, 'ExeFile']]},\n",
       " {'id': 41376,\n",
       "  'data': 'CALENDAR has a command to run cmd.exe to execute commands.',\n",
       "  'label': [[0, 9, 'APTFamily']]},\n",
       " {'id': 41382,\n",
       "  'data': 'Cobalt Group has used a JavaScript backdoor that is capable of launching cmd.exe to execute shell commands. The group has used an exploit toolkit known as Threadkit that launches .bat files.',\n",
       "  'label': [[0, 12, 'APTFamily'],\n",
       "   [24, 43, 'ExeFile'],\n",
       "   [92, 106, 'ExeFile'],\n",
       "   [138, 145, 'ExeFile'],\n",
       "   [108, 117, 'APTFamily']]},\n",
       " {'id': 41388,\n",
       "  'data': 'A module in CozyCar allows arbitrary commands to be executed by invoking C:\\\\Windows\\\\System32\\\\cmd.exe.',\n",
       "  'label': [[12, 19, 'APTFamily'], [27, 45, 'ExeFile']]}]"
      ]
     },
     "execution_count": 3,
     "metadata": {},
     "output_type": "execute_result"
    }
   ],
   "source": [
    "labeled_data"
   ]
  },
  {
   "cell_type": "code",
   "execution_count": 5,
   "metadata": {},
   "outputs": [
    {
     "ename": "KeyError",
     "evalue": "'text'",
     "output_type": "error",
     "traceback": [
      "\u001b[0;31m---------------------------------------------------------------------------\u001b[0m",
      "\u001b[0;31mKeyError\u001b[0m                                  Traceback (most recent call last)",
      "\u001b[0;32m<ipython-input-5-90756403e3f5>\u001b[0m in \u001b[0;36m<module>\u001b[0;34m\u001b[0m\n\u001b[1;32m      4\u001b[0m     \u001b[0;32mfor\u001b[0m \u001b[0me\u001b[0m \u001b[0;32min\u001b[0m \u001b[0mentry\u001b[0m\u001b[0;34m[\u001b[0m\u001b[0;34m'label'\u001b[0m\u001b[0;34m]\u001b[0m\u001b[0;34m:\u001b[0m\u001b[0;34m\u001b[0m\u001b[0;34m\u001b[0m\u001b[0m\n\u001b[1;32m      5\u001b[0m         \u001b[0mentities\u001b[0m\u001b[0;34m.\u001b[0m\u001b[0mappend\u001b[0m\u001b[0;34m(\u001b[0m\u001b[0;34m(\u001b[0m\u001b[0me\u001b[0m\u001b[0;34m[\u001b[0m\u001b[0;36m0\u001b[0m\u001b[0;34m]\u001b[0m\u001b[0;34m,\u001b[0m \u001b[0me\u001b[0m\u001b[0;34m[\u001b[0m\u001b[0;36m1\u001b[0m\u001b[0;34m]\u001b[0m\u001b[0;34m,\u001b[0m \u001b[0me\u001b[0m\u001b[0;34m[\u001b[0m\u001b[0;36m2\u001b[0m\u001b[0;34m]\u001b[0m\u001b[0;34m)\u001b[0m\u001b[0;34m)\u001b[0m\u001b[0;34m\u001b[0m\u001b[0;34m\u001b[0m\u001b[0m\n\u001b[0;32m----> 6\u001b[0;31m     \u001b[0mspacy_entry\u001b[0m \u001b[0;34m=\u001b[0m \u001b[0;34m(\u001b[0m\u001b[0mentry\u001b[0m\u001b[0;34m[\u001b[0m\u001b[0;34m'text'\u001b[0m\u001b[0;34m]\u001b[0m\u001b[0;34m,\u001b[0m \u001b[0;34m{\u001b[0m\u001b[0;34m\"entities\"\u001b[0m\u001b[0;34m:\u001b[0m \u001b[0mentities\u001b[0m\u001b[0;34m}\u001b[0m\u001b[0;34m)\u001b[0m\u001b[0;34m\u001b[0m\u001b[0;34m\u001b[0m\u001b[0m\n\u001b[0m\u001b[1;32m      7\u001b[0m     \u001b[0mTRAINING_DATA\u001b[0m\u001b[0;34m.\u001b[0m\u001b[0mappend\u001b[0m\u001b[0;34m(\u001b[0m\u001b[0mspacy_entry\u001b[0m\u001b[0;34m)\u001b[0m\u001b[0;34m\u001b[0m\u001b[0;34m\u001b[0m\u001b[0m\n",
      "\u001b[0;31mKeyError\u001b[0m: 'text'"
     ]
    }
   ],
   "source": []
  },
  {
   "cell_type": "code",
   "execution_count": null,
   "metadata": {},
   "outputs": [],
   "source": [
    "nlp = spacy.blank(\"en\")\n",
    "ner = nlp.create_pipe(\"ner\")\n",
    "nlp.add_pipe(ner)\n",
    "ner.add_label(\"OIL\")\n",
    "\n"
   ]
  }
 ],
 "metadata": {
  "kernelspec": {
   "display_name": "Python 3",
   "language": "python",
   "name": "python3"
  },
  "language_info": {
   "codemirror_mode": {
    "name": "ipython",
    "version": 3
   },
   "file_extension": ".py",
   "mimetype": "text/x-python",
   "name": "python",
   "nbconvert_exporter": "python",
   "pygments_lexer": "ipython3",
   "version": "3.8.2"
  }
 },
 "nbformat": 4,
 "nbformat_minor": 4
}
