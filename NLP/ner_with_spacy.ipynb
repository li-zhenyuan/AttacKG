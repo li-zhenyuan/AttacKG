{
 "cells": [
  {
   "cell_type": "code",
   "execution_count": 1,
   "metadata": {},
   "outputs": [],
   "source": [
    "import spacy\n",
    "from spacy.training import Example\n",
    "from spacy import displacy\n",
    "import random\n",
    "import json\n",
    "\n",
    "\n",
    "def read_data_jsonl():\n",
    "    labeled_data = []\n",
    "    with open(r\"/home/zhenyuan/AttacKG/NLP/Doccano/admin.jsonl\", \"r\") as read_file:\n",
    "        for line in read_file:\n",
    "            data = json.loads(line)\n",
    "            labeled_data.append(data)\n",
    "\n",
    "    print('---Read Labeled Data(%d)!---' % len(labeled_data))\n",
    "    return labeled_data\n",
    "\n",
    "\n",
    "class spacy_ner:\n",
    "\n",
    "    nlp = spacy.blank(\"en\")\n",
    "    spacy_data = []\n",
    "    model_location = \"/home/zhenyuan/AttacKG/NLP/cti.model\"\n",
    "    sample = \"APT3 has used PowerShell on victim systems to download and run payloads after exploitation.\"\n",
    "\n",
    "    def convert_jsonl_spacy(self, labeled_data):\n",
    "        for entry in labeled_data:\n",
    "            entities = []\n",
    "            for e in entry['label']:\n",
    "                entities.append((e[0], e[1], e[2]))\n",
    "            self.spacy_data.append(Example.from_dict(self.nlp.make_doc(entry['data']), {\"entities\": entities}))\n",
    "\n",
    "        self.nlp.initialize(lambda: self.spacy_data)\n",
    "    # split training and testing set\n",
    "    # training_set = spacy_data[0:19]\n",
    "    # testing_set = spacy_data[20:-1]\n",
    "\n",
    "    def spacy_training(self):\n",
    "        # Start training\n",
    "        print(\"---Start Training!---\")\n",
    "\n",
    "        ner = self.nlp.add_pipe(\"ner\")\n",
    "        ner.add_label(\"NetLoc\")\n",
    "        ner.add_label(\"APTFamily\")\n",
    "        ner.add_label(\"ExeFile\")\n",
    "        ner.add_label(\"ScriptsFile\")\n",
    "        ner.add_label(\"DocumentFile\")\n",
    "        ner.add_label(\"E-mail\")\n",
    "        ner.add_label(\"Registry\")\n",
    "        ner.add_label(\"File\")\n",
    "        ner.add_label(\"Vulnerability\")\n",
    "        ner.add_label(\"C2C\")\n",
    "        ner.add_label(\"SensInfo\")\n",
    "        ner.add_label(\"Service\")\n",
    "\n",
    "        self.nlp.begin_training()\n",
    "\n",
    "        # Loop\n",
    "        for itn in range(4):\n",
    "            random.shuffle(self.spacy_data)\n",
    "            # losses = ()\n",
    "\n",
    "            # Batch the examples\n",
    "            for batch in spacy.util.minibatch(self.spacy_data, size=2):\n",
    "                # Update the model\n",
    "                self.nlp.update(batch)\n",
    "                # print(losses)\n",
    "\n",
    "        self.nlp.to_disk(self.model_location)\n",
    "        print(\"---Save Model to %s!---\" % self.model_location)\n",
    "\n",
    "    def test_model(self, sample = self.sample):\n",
    "        doc = self.nlp(sample)\n",
    "        displacy.render(doc, style='ent')"
   ]
  },
  {
   "cell_type": "code",
   "execution_count": 2,
   "metadata": {},
   "outputs": [
    {
     "name": "stdout",
     "output_type": "stream",
     "text": [
      "---Read Labeled Data(27)!---\n",
      "---Start Training!---\n"
     ]
    },
    {
     "name": "stderr",
     "output_type": "stream",
     "text": [
      "/home/zhenyuan/anaconda3/envs/cti/lib/python3.8/site-packages/spacy/training/iob_utils.py:139: UserWarning: [W030] Some entities could not be aligned in the text \"Cobalt Strike can use known credentials to run com...\" with entities \"[(0, 13, 'APTFamily'), (47, 56, 'ScriptsFile'), (6...\". Use `spacy.training.offsets_to_biluo_tags(nlp.make_doc(text), entities)` to check the alignment. Misaligned entities ('-') will be ignored during training.\n",
      "  warnings.warn(\n",
      "/home/zhenyuan/anaconda3/envs/cti/lib/python3.8/site-packages/spacy/training/iob_utils.py:139: UserWarning: [W030] Some entities could not be aligned in the text \"Tropic Trooper has used known administrator accoun...\" with entities \"[(0, 14, 'APTFamily'), (79, 88, 'ExeFile')]\". Use `spacy.training.offsets_to_biluo_tags(nlp.make_doc(text), entities)` to check the alignment. Misaligned entities ('-') will be ignored during training.\n",
      "  warnings.warn(\n",
      "/home/zhenyuan/anaconda3/envs/cti/lib/python3.8/site-packages/spacy/training/iob_utils.py:139: UserWarning: [W030] Some entities could not be aligned in the text \"Bonadan can create bind and reverse shells on the ...\" with entities \"[(0, 8, 'APTFamily'), (28, 42, 'C2C')]\". Use `spacy.training.offsets_to_biluo_tags(nlp.make_doc(text), entities)` to check the alignment. Misaligned entities ('-') will be ignored during training.\n",
      "  warnings.warn(\n",
      "/home/zhenyuan/anaconda3/envs/cti/lib/python3.8/site-packages/spacy/training/iob_utils.py:139: UserWarning: [W030] Some entities could not be aligned in the text \"FIN6 has used scripting to iterate through a list ...\" with entities \"[(0, 5, 'APTFamily'), (14, 24, 'ExeFile'), (83, 87...\". Use `spacy.training.offsets_to_biluo_tags(nlp.make_doc(text), entities)` to check the alignment. Misaligned entities ('-') will be ignored during training.\n",
      "  warnings.warn(\n",
      "/home/zhenyuan/anaconda3/envs/cti/lib/python3.8/site-packages/spacy/training/iob_utils.py:139: UserWarning: [W030] Some entities could not be aligned in the text \"Kessel can create a reverse shell between the infe...\" with entities \"[(0, 7, 'APTFamily'), (20, 33, 'C2C'), (46, 59, 'N...\". Use `spacy.training.offsets_to_biluo_tags(nlp.make_doc(text), entities)` to check the alignment. Misaligned entities ('-') will be ignored during training.\n",
      "  warnings.warn(\n",
      "/home/zhenyuan/anaconda3/envs/cti/lib/python3.8/site-packages/spacy/training/iob_utils.py:139: UserWarning: [W030] Some entities could not be aligned in the text \"Whitefly has used a simple remote shell tool that ...\" with entities \"[(0, 9, 'APTFamily'), (27, 39, 'C2C'), (72, 81, 'N...\". Use `spacy.training.offsets_to_biluo_tags(nlp.make_doc(text), entities)` to check the alignment. Misaligned entities ('-') will be ignored during training.\n",
      "  warnings.warn(\n",
      "/home/zhenyuan/anaconda3/envs/cti/lib/python3.8/site-packages/spacy/training/iob_utils.py:139: UserWarning: [W030] Some entities could not be aligned in the text \"APT3 has used PowerShell on victim systems to down...\" with entities \"[(0, 5, 'APTFamily'), (14, 24, 'ExeFile'), (63, 72...\". Use `spacy.training.offsets_to_biluo_tags(nlp.make_doc(text), entities)` to check the alignment. Misaligned entities ('-') will be ignored during training.\n",
      "  warnings.warn(\n",
      "/home/zhenyuan/anaconda3/envs/cti/lib/python3.8/site-packages/spacy/training/iob_utils.py:139: UserWarning: [W030] Some entities could not be aligned in the text \"BloodHound can use PowerShell to pull Active Direc...\" with entities \"[(0, 11, 'APTFamily'), (19, 29, 'ExeFile'), (38, 6...\". Use `spacy.training.offsets_to_biluo_tags(nlp.make_doc(text), entities)` to check the alignment. Misaligned entities ('-') will be ignored during training.\n",
      "  warnings.warn(\n",
      "/home/zhenyuan/anaconda3/envs/cti/lib/python3.8/site-packages/spacy/training/iob_utils.py:139: UserWarning: [W030] Some entities could not be aligned in the text \"Cobalt Strike can execute a payload on a remote ho...\" with entities \"[(0, 13, 'APTFamily'), (28, 35, 'ExeFile'), (118, ...\". Use `spacy.training.offsets_to_biluo_tags(nlp.make_doc(text), entities)` to check the alignment. Misaligned entities ('-') will be ignored during training.\n",
      "  warnings.warn(\n",
      "/home/zhenyuan/anaconda3/envs/cti/lib/python3.8/site-packages/spacy/training/iob_utils.py:139: UserWarning: [W030] Some entities could not be aligned in the text \"Deep Panda has used PowerShell scripts to download...\" with entities \"[(0, 10, 'APTFamily'), (20, 38, 'ExeFile'), (63, 7...\". Use `spacy.training.offsets_to_biluo_tags(nlp.make_doc(text), entities)` to check the alignment. Misaligned entities ('-') will be ignored during training.\n",
      "  warnings.warn(\n",
      "/home/zhenyuan/anaconda3/envs/cti/lib/python3.8/site-packages/spacy/training/iob_utils.py:139: UserWarning: [W030] Some entities could not be aligned in the text \"FatDuke has the ability to execute PowerShell scri...\" with entities \"[(0, 8, 'APTFamily'), (35, 53, 'ScriptsFile')]\". Use `spacy.training.offsets_to_biluo_tags(nlp.make_doc(text), entities)` to check the alignment. Misaligned entities ('-') will be ignored during training.\n",
      "  warnings.warn(\n",
      "/home/zhenyuan/anaconda3/envs/cti/lib/python3.8/site-packages/spacy/training/iob_utils.py:139: UserWarning: [W030] Some entities could not be aligned in the text \"Gallmaker used PowerShell to download additional p...\" with entities \"[(0, 10, 'APTFamily'), (38, 57, 'ExeFile'), (15, 2...\". Use `spacy.training.offsets_to_biluo_tags(nlp.make_doc(text), entities)` to check the alignment. Misaligned entities ('-') will be ignored during training.\n",
      "  warnings.warn(\n",
      "/home/zhenyuan/anaconda3/envs/cti/lib/python3.8/site-packages/spacy/training/iob_utils.py:139: UserWarning: [W030] Some entities could not be aligned in the text \"One version of Helminth uses a PowerShell script.\" with entities \"[(15, 24, 'APTFamily'), (31, 48, 'ExeFile')]\". Use `spacy.training.offsets_to_biluo_tags(nlp.make_doc(text), entities)` to check the alignment. Misaligned entities ('-') will be ignored during training.\n",
      "  warnings.warn(\n",
      "/home/zhenyuan/anaconda3/envs/cti/lib/python3.8/site-packages/spacy/training/iob_utils.py:139: UserWarning: [W030] Some entities could not be aligned in the text \"QUADAGENT uses PowerShell scripts for execution.\" with entities \"[(0, 10, 'APTFamily'), (15, 33, 'ExeFile')]\". Use `spacy.training.offsets_to_biluo_tags(nlp.make_doc(text), entities)` to check the alignment. Misaligned entities ('-') will be ignored during training.\n",
      "  warnings.warn(\n",
      "/home/zhenyuan/anaconda3/envs/cti/lib/python3.8/site-packages/spacy/training/iob_utils.py:139: UserWarning: [W030] Some entities could not be aligned in the text \"SeaDuke uses a module to execute Mimikatz with Pow...\" with entities \"[(0, 8, 'APTFamily'), (33, 41, 'ExeFile'), (47, 57...\". Use `spacy.training.offsets_to_biluo_tags(nlp.make_doc(text), entities)` to check the alignment. Misaligned entities ('-') will be ignored during training.\n",
      "  warnings.warn(\n",
      "/home/zhenyuan/anaconda3/envs/cti/lib/python3.8/site-packages/spacy/training/iob_utils.py:139: UserWarning: [W030] Some entities could not be aligned in the text \"SQLRat has used PowerShell to create a Meterpreter...\" with entities \"[(0, 7, 'APTFamily'), (16, 27, 'ExeFile'), (39, 58...\". Use `spacy.training.offsets_to_biluo_tags(nlp.make_doc(text), entities)` to check the alignment. Misaligned entities ('-') will be ignored during training.\n",
      "  warnings.warn(\n",
      "/home/zhenyuan/anaconda3/envs/cti/lib/python3.8/site-packages/spacy/training/iob_utils.py:139: UserWarning: [W030] Some entities could not be aligned in the text \"Threat Group-3390 has used PowerShell for executio...\" with entities \"[(0, 17, 'APTFamily'), (27, 38, 'ExeFile')]\". Use `spacy.training.offsets_to_biluo_tags(nlp.make_doc(text), entities)` to check the alignment. Misaligned entities ('-') will be ignored during training.\n",
      "  warnings.warn(\n",
      "/home/zhenyuan/anaconda3/envs/cti/lib/python3.8/site-packages/spacy/training/iob_utils.py:139: UserWarning: [W030] Some entities could not be aligned in the text \"WellMess can execute PowerShell scripts received f...\" with entities \"[(0, 9, 'APTFamily'), (21, 32, 'ExeFile'), (54, 56...\". Use `spacy.training.offsets_to_biluo_tags(nlp.make_doc(text), entities)` to check the alignment. Misaligned entities ('-') will be ignored during training.\n",
      "  warnings.warn(\n",
      "/home/zhenyuan/anaconda3/envs/cti/lib/python3.8/site-packages/spacy/training/iob_utils.py:139: UserWarning: [W030] Some entities could not be aligned in the text \"Dok uses AppleScript to create a login item for pe...\" with entities \"[(0, 4, 'APTFamily'), (9, 21, 'ExeFile'), (33, 43,...\". Use `spacy.training.offsets_to_biluo_tags(nlp.make_doc(text), entities)` to check the alignment. Misaligned entities ('-') will be ignored during training.\n",
      "  warnings.warn(\n",
      "/home/zhenyuan/anaconda3/envs/cti/lib/python3.8/site-packages/spacy/training/iob_utils.py:139: UserWarning: [W030] Some entities could not be aligned in the text \"Anchor has used cmd.exe to run its self deletion r...\" with entities \"[(0, 7, 'APTFamily')]\". Use `spacy.training.offsets_to_biluo_tags(nlp.make_doc(text), entities)` to check the alignment. Misaligned entities ('-') will be ignored during training.\n",
      "  warnings.warn(\n",
      "/home/zhenyuan/anaconda3/envs/cti/lib/python3.8/site-packages/spacy/training/iob_utils.py:139: UserWarning: [W030] Some entities could not be aligned in the text \"BackConfig can download and run batch files to exe...\" with entities \"[(0, 11, 'APTFamily'), (32, 43, 'ExeFile'), (55, 6...\". Use `spacy.training.offsets_to_biluo_tags(nlp.make_doc(text), entities)` to check the alignment. Misaligned entities ('-') will be ignored during training.\n",
      "  warnings.warn(\n",
      "/home/zhenyuan/anaconda3/envs/cti/lib/python3.8/site-packages/spacy/training/iob_utils.py:139: UserWarning: [W030] Some entities could not be aligned in the text \"BISCUIT has a command to launch a command shell on...\" with entities \"[(0, 8, 'APTFamily'), (34, 47, 'ExeFile')]\". Use `spacy.training.offsets_to_biluo_tags(nlp.make_doc(text), entities)` to check the alignment. Misaligned entities ('-') will be ignored during training.\n",
      "  warnings.warn(\n",
      "/home/zhenyuan/anaconda3/envs/cti/lib/python3.8/site-packages/spacy/training/iob_utils.py:139: UserWarning: [W030] Some entities could not be aligned in the text \"CALENDAR has a command to run cmd.exe to execute c...\" with entities \"[(0, 9, 'APTFamily')]\". Use `spacy.training.offsets_to_biluo_tags(nlp.make_doc(text), entities)` to check the alignment. Misaligned entities ('-') will be ignored during training.\n",
      "  warnings.warn(\n"
     ]
    },
    {
     "name": "stdout",
     "output_type": "stream",
     "text": [
      "---Save Model to /home/zhenyuan/AttacKG/NLP/cti.model!---\n"
     ]
    },
    {
     "data": {
      "text/html": [
       "<span class=\"tex2jax_ignore\"><div class=\"entities\" style=\"line-height: 2.5; direction: ltr\">APT3 has used \n",
       "<mark class=\"entity\" style=\"background: #ddd; padding: 0.45em 0.6em; margin: 0 0.25em; line-height: 1; border-radius: 0.35em;\">\n",
       "    PowerShell on\n",
       "    <span style=\"font-size: 0.8em; font-weight: bold; line-height: 1; border-radius: 0.35em; vertical-align: middle; margin-left: 0.5rem\">ExeFile</span>\n",
       "</mark>\n",
       " victim systems to download and run payloads after exploitation.</div></span>"
      ],
      "text/plain": [
       "<IPython.core.display.HTML object>"
      ]
     },
     "metadata": {},
     "output_type": "display_data"
    }
   ],
   "source": [
    "sn = spacy_ner()\n",
    "sn.convert_jsonl_spacy(read_data_jsonl())\n",
    "sn.spacy_training()\n",
    "sn.test_model()"
   ]
  },
  {
   "cell_type": "code",
   "execution_count": null,
   "metadata": {},
   "outputs": [],
   "source": [
    "sn.test_model()"
   ]
  }
 ],
 "metadata": {
  "kernelspec": {
   "display_name": "Python 3",
   "language": "python",
   "name": "python3"
  },
  "language_info": {
   "codemirror_mode": {
    "name": "ipython",
    "version": 3
   },
   "file_extension": ".py",
   "mimetype": "text/x-python",
   "name": "python",
   "nbconvert_exporter": "python",
   "pygments_lexer": "ipython3",
   "version": "3.8.2"
  }
 },
 "nbformat": 4,
 "nbformat_minor": 4
}