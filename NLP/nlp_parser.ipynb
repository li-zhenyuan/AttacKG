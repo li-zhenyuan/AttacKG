{
 "cells": [
  {
   "cell_type": "code",
   "execution_count": 9,
   "outputs": [],
   "source": [
    "import re \n",
    "import string \n",
    "import nltk \n",
    "import spacy \n",
    "import pandas as pd \n",
    "import numpy as np \n",
    "import math \n",
    "from tqdm import tqdm \n",
    "\n",
    "from spacy.matcher import Matcher \n",
    "from spacy.tokens import Span \n",
    "from spacy import displacy\n",
    "\n",
    "# pd.set_option('display.max_colwidth', 200)\n",
    "\n",
    "# load spaCy model\n",
    "# nlp = spacy.load(\"en_core_web_sm\")"
   ],
   "metadata": {
    "collapsed": false,
    "pycharm": {
     "name": "#%%\n"
    }
   }
  },
  {
   "cell_type": "code",
   "execution_count": 20,
   "outputs": [],
   "source": [
    "import spacy\n",
    "from nltk import Tree\n",
    "\n",
    "def to_nltk_tree(node):\n",
    "    if node.n_lefts + node.n_rights > 0:\n",
    "        return Tree(node.orth_, [to_nltk_tree(child) for child in node.children])\n",
    "    else:\n",
    "        return node.orth_\n",
    "\n",
    "def tok_format(tok):\n",
    "    return \"_\".join([tok.orth_, tok.tag_, tok.dep_])\n",
    "\n",
    "def to_nltk_formatted_tree(node):\n",
    "    if node.n_lefts + node.n_rights > 0:\n",
    "        return Tree(tok_format(node), [to_nltk_formatted_tree(child) for child in node.children])\n",
    "    else:\n",
    "        return tok_format(node)"
   ],
   "metadata": {
    "collapsed": false,
    "pycharm": {
     "name": "#%%\n"
    }
   }
  },
  {
   "cell_type": "code",
   "execution_count": 21,
   "outputs": [
    {
     "name": "stdout",
     "output_type": "stream",
     "text": [
      "                                                                   sent_VBD_ROOT                                                                             \n",
      "        _________________________________________________________________|_________________________________________________________                           \n",
      "       |                                          emails_NNS_dobj                                                                  |                         \n",
      "       |                _________________________________|_______________                                                          |                          \n",
      "       |               |                                            with_IN_prep                                                   |                         \n",
      "       |               |                                                 |                                                         |                          \n",
      "       |               |                                          attachments_NNS_                                                 |                         \n",
      "       |               |                                                pobj                                                       |                         \n",
      "       |               |                 ________________________________|________________                                         |                          \n",
      "       |               |                |                                             in_IN_prep                                   |                         \n",
      "       |               |                |                                                 |                                        |                          \n",
      "       |               |                |                                          formats_NNS_pobj                         deliver_VB_advcl                 \n",
      "       |               |                |                                                 |                            ____________|________________          \n",
      "       |               |                |                                            RTF_NNP_nmod                     |                      exploits_NNS_dob\n",
      "       |               |                |                                                 |                           |                             j        \n",
      "       |               |                |                                 ________________|_______________            |                             |         \n",
      "APT19_NNP_nsubj spearphishing_NN malicious_JJ_amo                    and_CC_cc                      XLSM_NNP_conj to_TO_aux                  initial_JJ_amod \n",
      "                     _amod              d                                                                                                                    \n",
      "\n"
     ]
    },
    {
     "data": {
      "text/plain": "[None]"
     },
     "execution_count": 21,
     "metadata": {},
     "output_type": "execute_result"
    }
   ],
   "source": [
    "en_nlp = spacy.load('en_core_web_sm')\n",
    "\n",
    "doc = en_nlp(\"APT19 sent spearphishing emails with malicious attachments in RTF and XLSM formats to deliver initial exploits\")\n",
    "\n",
    "# displacy.render(doc, style='dep',jupyter=True)\n",
    "tree = [to_nltk_formatted_tree(sent.root) for sent in doc.sents]\n",
    "tree[0].draw()\n",
    "\n",
    "[to_nltk_formatted_tree(sent.root).pretty_print() for sent in doc.sents]"
   ],
   "metadata": {
    "collapsed": false,
    "pycharm": {
     "name": "#%%\n"
    }
   }
  }
 ],
 "metadata": {
  "kernelspec": {
   "display_name": "Python 3",
   "language": "python",
   "name": "python3"
  },
  "language_info": {
   "codemirror_mode": {
    "name": "ipython",
    "version": 3
   },
   "file_extension": ".py",
   "mimetype": "text/x-python",
   "name": "python",
   "nbconvert_exporter": "python",
   "pygments_lexer": "ipython3",
   "version": "3.6.10"
  }
 },
 "nbformat": 4,
 "nbformat_minor": 5
}